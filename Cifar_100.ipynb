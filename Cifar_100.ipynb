{
  "nbformat": 4,
  "nbformat_minor": 0,
  "metadata": {
    "colab": {
      "name": "Cifar_100.ipynb",
      "provenance": [],
      "authorship_tag": "ABX9TyNumTm+AAUQKMuHCL+wAv0p",
      "include_colab_link": true
    },
    "kernelspec": {
      "name": "python3",
      "display_name": "Python 3"
    },
    "language_info": {
      "name": "python"
    },
    "accelerator": "GPU"
  },
  "cells": [
    {
      "cell_type": "markdown",
      "metadata": {
        "id": "view-in-github",
        "colab_type": "text"
      },
      "source": [
        "<a href=\"https://colab.research.google.com/github/LeDinhHung2211/AI_NeuralNmetwork/blob/main/Cifar_100.ipynb\" target=\"_parent\"><img src=\"https://colab.research.google.com/assets/colab-badge.svg\" alt=\"Open In Colab\"/></a>"
      ]
    },
    {
      "cell_type": "code",
      "execution_count": null,
      "metadata": {
        "id": "zFNR_hnVO5-W"
      },
      "outputs": [],
      "source": [
        "#import library\n",
        "import numpy as np\n",
        "import pandas as pd\n",
        "from keras.datasets import cifar100\n",
        "import matplotlib.pyplot as plt\n",
        "from keras.utils import np_utils\n",
        "from keras.models import Sequential\n",
        "from keras.layers import Dense, Dropout\n",
        "from tensorflow.keras.optimizers import RMSprop\n",
        "from keras.callbacks import EarlyStopping\n",
        "from keras.backend import dropout"
      ]
    },
    {
      "cell_type": "code",
      "source": [
        "(X_train, y_train),(X_test,y_test) = cifar100.load_data()"
      ],
      "metadata": {
        "colab": {
          "base_uri": "https://localhost:8080/"
        },
        "id": "SLVxvHIePCRp",
        "outputId": "521be857-2b79-4141-d608-494eceff9ae0"
      },
      "execution_count": null,
      "outputs": [
        {
          "output_type": "stream",
          "name": "stdout",
          "text": [
            "Downloading data from https://www.cs.toronto.edu/~kriz/cifar-100-python.tar.gz\n",
            "169009152/169001437 [==============================] - 11s 0us/step\n",
            "169017344/169001437 [==============================] - 11s 0us/step\n"
          ]
        }
      ]
    },
    {
      "cell_type": "code",
      "source": [
        "X_train.shape, y_train.shape,X_test.shape,y_test.shape"
      ],
      "metadata": {
        "colab": {
          "base_uri": "https://localhost:8080/"
        },
        "id": "JLBrMNFsPOQV",
        "outputId": "84aaa79f-c657-4f77-c735-b4395105fa31"
      },
      "execution_count": null,
      "outputs": [
        {
          "output_type": "execute_result",
          "data": {
            "text/plain": [
              "((50000, 32, 32, 3), (50000, 1), (10000, 32, 32, 3), (10000, 1))"
            ]
          },
          "metadata": {},
          "execution_count": 8
        }
      ]
    },
    {
      "cell_type": "code",
      "source": [
        "#x_test,x_train là mảng 4 chiều để chuyển về 2 chiều ta lấy 32*32*3\n",
        "X_train = X_train.reshape(-1,X_train.shape[1]*X_train.shape[2]*X_train.shape[3])\n",
        "X_test = X_test.reshape(-1,X_test.shape[1]*X_test.shape[2]*X_test.shape[3])"
      ],
      "metadata": {
        "id": "y-7R3DR3PPNu"
      },
      "execution_count": null,
      "outputs": []
    },
    {
      "cell_type": "code",
      "source": [
        "X_train.shape, y_train.shape,X_test.shape,y_test.shape"
      ],
      "metadata": {
        "colab": {
          "base_uri": "https://localhost:8080/"
        },
        "id": "FOxXCRCSPQST",
        "outputId": "7f049ac0-3a2e-4181-bd1e-0b810f9c9e1c"
      },
      "execution_count": null,
      "outputs": [
        {
          "output_type": "execute_result",
          "data": {
            "text/plain": [
              "((50000, 3072), (50000, 1), (10000, 3072), (10000, 1))"
            ]
          },
          "metadata": {},
          "execution_count": 10
        }
      ]
    },
    {
      "cell_type": "code",
      "source": [
        "#chuẩn hóa \n",
        "X_train = X_train.astype('float32')\n",
        "X_test = X_test.astype('float32')\n",
        "X_train /=255\n",
        "X_test /=255\n"
      ],
      "metadata": {
        "id": "0t0cdWPPPRZc"
      },
      "execution_count": null,
      "outputs": []
    },
    {
      "cell_type": "code",
      "source": [
        "# 100 class\n",
        "y_train = np_utils.to_categorical(y_train,100)\n",
        "y_test = np_utils.to_categorical(y_test,100)"
      ],
      "metadata": {
        "id": "Gd4Y5eBiPSpq"
      },
      "execution_count": null,
      "outputs": []
    },
    {
      "cell_type": "code",
      "source": [
        "# buid model ANN\n",
        "model = Sequential()\n",
        "model.add(Dense(600,activation='relu',input_shape=(3072,)))\n",
        "model.add(Dropout(0.2))\n",
        "model.add(Dense(400,activation='relu'))\n",
        "model.add(Dropout(0.2))\n",
        "model.add(Dense(200,activation='relu'))\n",
        "model.add(Dropout(0.2))\n",
        "model.add(Dense(100,activation='softmax'))\n",
        "model.summary()"
      ],
      "metadata": {
        "colab": {
          "base_uri": "https://localhost:8080/"
        },
        "id": "Ta2ghdeJPT4b",
        "outputId": "5384854d-71cf-455e-e1d0-691628c8dfe3"
      },
      "execution_count": null,
      "outputs": [
        {
          "output_type": "stream",
          "name": "stdout",
          "text": [
            "Model: \"sequential\"\n",
            "_________________________________________________________________\n",
            " Layer (type)                Output Shape              Param #   \n",
            "=================================================================\n",
            " dense (Dense)               (None, 600)               1843800   \n",
            "                                                                 \n",
            " dropout (Dropout)           (None, 600)               0         \n",
            "                                                                 \n",
            " dense_1 (Dense)             (None, 400)               240400    \n",
            "                                                                 \n",
            " dropout_1 (Dropout)         (None, 400)               0         \n",
            "                                                                 \n",
            " dense_2 (Dense)             (None, 200)               80200     \n",
            "                                                                 \n",
            " dropout_2 (Dropout)         (None, 200)               0         \n",
            "                                                                 \n",
            " dense_3 (Dense)             (None, 100)               20100     \n",
            "                                                                 \n",
            "=================================================================\n",
            "Total params: 2,184,500\n",
            "Trainable params: 2,184,500\n",
            "Non-trainable params: 0\n",
            "_________________________________________________________________\n"
          ]
        }
      ]
    },
    {
      "cell_type": "code",
      "source": [
        "model.compile(loss='categorical_crossentropy',optimizer=RMSprop(), metrics=['accuracy'])"
      ],
      "metadata": {
        "id": "L6FfJ52-PVHC"
      },
      "execution_count": null,
      "outputs": []
    },
    {
      "cell_type": "code",
      "source": [
        "history = model.fit(X_train,y_train,batch_size=128,epochs=300,verbose=1,validation_split=0.2,callbacks=[EarlyStopping(monitor='val_loss',patience=70)])\n"
      ],
      "metadata": {
        "colab": {
          "base_uri": "https://localhost:8080/"
        },
        "id": "54ZtUURjPWhM",
        "outputId": "be0645cb-acda-4611-d259-d8a49f07122b"
      },
      "execution_count": null,
      "outputs": [
        {
          "output_type": "stream",
          "name": "stdout",
          "text": [
            "Epoch 1/300\n",
            "313/313 [==============================] - 7s 11ms/step - loss: 4.4469 - accuracy: 0.0333 - val_loss: 4.1664 - val_accuracy: 0.0561\n",
            "Epoch 2/300\n",
            "313/313 [==============================] - 3s 9ms/step - loss: 4.1181 - accuracy: 0.0659 - val_loss: 4.0296 - val_accuracy: 0.0829\n",
            "Epoch 3/300\n",
            "313/313 [==============================] - 3s 9ms/step - loss: 3.9560 - accuracy: 0.0910 - val_loss: 3.8068 - val_accuracy: 0.1179\n",
            "Epoch 4/300\n",
            "313/313 [==============================] - 3s 9ms/step - loss: 3.8671 - accuracy: 0.1039 - val_loss: 3.7550 - val_accuracy: 0.1294\n",
            "Epoch 5/300\n",
            "313/313 [==============================] - 3s 10ms/step - loss: 3.7986 - accuracy: 0.1149 - val_loss: 3.6973 - val_accuracy: 0.1439\n",
            "Epoch 6/300\n",
            "313/313 [==============================] - 3s 10ms/step - loss: 3.7448 - accuracy: 0.1264 - val_loss: 3.6962 - val_accuracy: 0.1383\n",
            "Epoch 7/300\n",
            "313/313 [==============================] - 3s 10ms/step - loss: 3.6982 - accuracy: 0.1319 - val_loss: 3.6270 - val_accuracy: 0.1508\n",
            "Epoch 8/300\n",
            "313/313 [==============================] - 3s 9ms/step - loss: 3.6666 - accuracy: 0.1364 - val_loss: 3.6459 - val_accuracy: 0.1560\n",
            "Epoch 9/300\n",
            "313/313 [==============================] - 3s 9ms/step - loss: 3.6355 - accuracy: 0.1462 - val_loss: 3.6186 - val_accuracy: 0.1488\n",
            "Epoch 10/300\n",
            "313/313 [==============================] - 3s 10ms/step - loss: 3.6092 - accuracy: 0.1472 - val_loss: 3.5410 - val_accuracy: 0.1680\n",
            "Epoch 11/300\n",
            "313/313 [==============================] - 3s 9ms/step - loss: 3.5857 - accuracy: 0.1507 - val_loss: 3.5536 - val_accuracy: 0.1661\n",
            "Epoch 12/300\n",
            "313/313 [==============================] - 3s 9ms/step - loss: 3.5733 - accuracy: 0.1565 - val_loss: 3.6853 - val_accuracy: 0.1431\n",
            "Epoch 13/300\n",
            "313/313 [==============================] - 3s 9ms/step - loss: 3.5547 - accuracy: 0.1584 - val_loss: 3.5250 - val_accuracy: 0.1768\n",
            "Epoch 14/300\n",
            "313/313 [==============================] - 3s 10ms/step - loss: 3.5448 - accuracy: 0.1626 - val_loss: 3.5159 - val_accuracy: 0.1780\n",
            "Epoch 15/300\n",
            "313/313 [==============================] - 3s 9ms/step - loss: 3.5341 - accuracy: 0.1620 - val_loss: 3.5715 - val_accuracy: 0.1625\n",
            "Epoch 16/300\n",
            "313/313 [==============================] - 3s 9ms/step - loss: 3.5181 - accuracy: 0.1663 - val_loss: 3.5097 - val_accuracy: 0.1807\n",
            "Epoch 17/300\n",
            "313/313 [==============================] - 3s 10ms/step - loss: 3.5115 - accuracy: 0.1663 - val_loss: 3.5044 - val_accuracy: 0.1731\n",
            "Epoch 18/300\n",
            "313/313 [==============================] - 3s 9ms/step - loss: 3.4985 - accuracy: 0.1675 - val_loss: 3.4343 - val_accuracy: 0.1899\n",
            "Epoch 19/300\n",
            "313/313 [==============================] - 3s 10ms/step - loss: 3.5006 - accuracy: 0.1696 - val_loss: 3.5405 - val_accuracy: 0.1709\n",
            "Epoch 20/300\n",
            "313/313 [==============================] - 3s 10ms/step - loss: 3.4802 - accuracy: 0.1736 - val_loss: 3.5461 - val_accuracy: 0.1666\n",
            "Epoch 21/300\n",
            "313/313 [==============================] - 4s 12ms/step - loss: 3.4830 - accuracy: 0.1721 - val_loss: 3.5405 - val_accuracy: 0.1736\n",
            "Epoch 22/300\n",
            "313/313 [==============================] - 4s 14ms/step - loss: 3.4880 - accuracy: 0.1724 - val_loss: 3.4933 - val_accuracy: 0.1792\n",
            "Epoch 23/300\n",
            "313/313 [==============================] - 4s 12ms/step - loss: 3.4806 - accuracy: 0.1743 - val_loss: 3.4944 - val_accuracy: 0.1831\n",
            "Epoch 24/300\n",
            "313/313 [==============================] - 4s 13ms/step - loss: 3.4716 - accuracy: 0.1753 - val_loss: 3.4614 - val_accuracy: 0.1911\n",
            "Epoch 25/300\n",
            "313/313 [==============================] - 3s 11ms/step - loss: 3.4696 - accuracy: 0.1757 - val_loss: 3.5394 - val_accuracy: 0.1795\n",
            "Epoch 26/300\n",
            "313/313 [==============================] - 3s 11ms/step - loss: 3.4720 - accuracy: 0.1752 - val_loss: 3.4349 - val_accuracy: 0.1926\n",
            "Epoch 27/300\n",
            "313/313 [==============================] - 3s 9ms/step - loss: 3.4724 - accuracy: 0.1769 - val_loss: 3.4792 - val_accuracy: 0.1838\n",
            "Epoch 28/300\n",
            "313/313 [==============================] - 3s 10ms/step - loss: 3.4596 - accuracy: 0.1772 - val_loss: 3.5197 - val_accuracy: 0.1734\n",
            "Epoch 29/300\n",
            "313/313 [==============================] - 3s 10ms/step - loss: 3.4687 - accuracy: 0.1767 - val_loss: 3.5065 - val_accuracy: 0.1808\n",
            "Epoch 30/300\n",
            "313/313 [==============================] - 3s 9ms/step - loss: 3.4728 - accuracy: 0.1754 - val_loss: 3.4790 - val_accuracy: 0.1857\n",
            "Epoch 31/300\n",
            "313/313 [==============================] - 3s 9ms/step - loss: 3.4657 - accuracy: 0.1756 - val_loss: 3.5633 - val_accuracy: 0.1645\n",
            "Epoch 32/300\n",
            "313/313 [==============================] - 3s 9ms/step - loss: 3.4604 - accuracy: 0.1782 - val_loss: 3.4828 - val_accuracy: 0.1808\n",
            "Epoch 33/300\n",
            "313/313 [==============================] - 3s 9ms/step - loss: 3.4638 - accuracy: 0.1771 - val_loss: 3.4777 - val_accuracy: 0.1832\n",
            "Epoch 34/300\n",
            "313/313 [==============================] - 3s 10ms/step - loss: 3.4629 - accuracy: 0.1774 - val_loss: 3.4582 - val_accuracy: 0.1870\n",
            "Epoch 35/300\n",
            "313/313 [==============================] - 3s 11ms/step - loss: 3.4626 - accuracy: 0.1807 - val_loss: 3.5188 - val_accuracy: 0.1760\n",
            "Epoch 36/300\n",
            "313/313 [==============================] - 3s 11ms/step - loss: 3.4644 - accuracy: 0.1771 - val_loss: 3.4419 - val_accuracy: 0.1883\n",
            "Epoch 37/300\n",
            "313/313 [==============================] - 3s 10ms/step - loss: 3.4675 - accuracy: 0.1803 - val_loss: 3.5031 - val_accuracy: 0.1756\n",
            "Epoch 38/300\n",
            "313/313 [==============================] - 3s 9ms/step - loss: 3.4638 - accuracy: 0.1766 - val_loss: 3.5247 - val_accuracy: 0.1755\n",
            "Epoch 39/300\n",
            "313/313 [==============================] - 3s 10ms/step - loss: 3.4599 - accuracy: 0.1813 - val_loss: 3.5762 - val_accuracy: 0.1658\n",
            "Epoch 40/300\n",
            "313/313 [==============================] - 3s 9ms/step - loss: 3.4600 - accuracy: 0.1783 - val_loss: 3.5155 - val_accuracy: 0.1709\n",
            "Epoch 41/300\n",
            "313/313 [==============================] - 3s 10ms/step - loss: 3.4635 - accuracy: 0.1789 - val_loss: 3.5252 - val_accuracy: 0.1744\n",
            "Epoch 42/300\n",
            "313/313 [==============================] - 3s 9ms/step - loss: 3.4633 - accuracy: 0.1773 - val_loss: 3.5075 - val_accuracy: 0.1761\n",
            "Epoch 43/300\n",
            "313/313 [==============================] - 3s 10ms/step - loss: 3.4617 - accuracy: 0.1775 - val_loss: 3.5752 - val_accuracy: 0.1607\n",
            "Epoch 44/300\n",
            "313/313 [==============================] - 3s 10ms/step - loss: 3.4667 - accuracy: 0.1748 - val_loss: 3.4714 - val_accuracy: 0.1881\n",
            "Epoch 45/300\n",
            "313/313 [==============================] - 3s 9ms/step - loss: 3.4636 - accuracy: 0.1780 - val_loss: 3.5254 - val_accuracy: 0.1687\n",
            "Epoch 46/300\n",
            "313/313 [==============================] - 3s 9ms/step - loss: 3.4677 - accuracy: 0.1776 - val_loss: 3.4610 - val_accuracy: 0.1885\n",
            "Epoch 47/300\n",
            "313/313 [==============================] - 3s 9ms/step - loss: 3.4721 - accuracy: 0.1761 - val_loss: 3.5571 - val_accuracy: 0.1730\n",
            "Epoch 48/300\n",
            "313/313 [==============================] - 3s 11ms/step - loss: 3.4768 - accuracy: 0.1770 - val_loss: 3.5022 - val_accuracy: 0.1787\n",
            "Epoch 49/300\n",
            "313/313 [==============================] - 3s 10ms/step - loss: 3.4711 - accuracy: 0.1766 - val_loss: 3.5354 - val_accuracy: 0.1644\n",
            "Epoch 50/300\n",
            "313/313 [==============================] - 3s 10ms/step - loss: 3.4713 - accuracy: 0.1776 - val_loss: 3.4725 - val_accuracy: 0.1878\n",
            "Epoch 51/300\n",
            "313/313 [==============================] - 3s 9ms/step - loss: 3.4829 - accuracy: 0.1757 - val_loss: 3.5581 - val_accuracy: 0.1670\n",
            "Epoch 52/300\n",
            "313/313 [==============================] - 3s 9ms/step - loss: 3.4812 - accuracy: 0.1763 - val_loss: 3.4890 - val_accuracy: 0.1861\n",
            "Epoch 53/300\n",
            "313/313 [==============================] - 3s 9ms/step - loss: 3.4829 - accuracy: 0.1773 - val_loss: 3.5249 - val_accuracy: 0.1694\n",
            "Epoch 54/300\n",
            "313/313 [==============================] - 3s 9ms/step - loss: 3.4789 - accuracy: 0.1762 - val_loss: 3.5120 - val_accuracy: 0.1741\n",
            "Epoch 55/300\n",
            "313/313 [==============================] - 3s 9ms/step - loss: 3.4950 - accuracy: 0.1738 - val_loss: 3.5078 - val_accuracy: 0.1770\n",
            "Epoch 56/300\n",
            "313/313 [==============================] - 3s 9ms/step - loss: 3.4898 - accuracy: 0.1749 - val_loss: 3.5166 - val_accuracy: 0.1695\n",
            "Epoch 57/300\n",
            "313/313 [==============================] - 3s 9ms/step - loss: 3.4725 - accuracy: 0.1793 - val_loss: 3.4347 - val_accuracy: 0.1900\n",
            "Epoch 58/300\n",
            "313/313 [==============================] - 3s 9ms/step - loss: 3.4902 - accuracy: 0.1740 - val_loss: 3.5838 - val_accuracy: 0.1609\n",
            "Epoch 59/300\n",
            "313/313 [==============================] - 3s 9ms/step - loss: 3.4788 - accuracy: 0.1761 - val_loss: 3.5563 - val_accuracy: 0.1647\n",
            "Epoch 60/300\n",
            "313/313 [==============================] - 3s 9ms/step - loss: 3.4901 - accuracy: 0.1730 - val_loss: 3.4914 - val_accuracy: 0.1808\n",
            "Epoch 61/300\n",
            "313/313 [==============================] - 3s 11ms/step - loss: 3.4870 - accuracy: 0.1765 - val_loss: 3.5142 - val_accuracy: 0.1739\n",
            "Epoch 62/300\n",
            "313/313 [==============================] - 3s 9ms/step - loss: 3.4841 - accuracy: 0.1758 - val_loss: 3.4703 - val_accuracy: 0.1812\n",
            "Epoch 63/300\n",
            "313/313 [==============================] - 3s 9ms/step - loss: 3.4694 - accuracy: 0.1793 - val_loss: 3.5705 - val_accuracy: 0.1595\n",
            "Epoch 64/300\n",
            "313/313 [==============================] - 3s 9ms/step - loss: 3.4825 - accuracy: 0.1769 - val_loss: 3.4645 - val_accuracy: 0.1815\n",
            "Epoch 65/300\n",
            "313/313 [==============================] - 3s 9ms/step - loss: 3.4840 - accuracy: 0.1735 - val_loss: 3.5021 - val_accuracy: 0.1768\n",
            "Epoch 66/300\n",
            "313/313 [==============================] - 3s 10ms/step - loss: 3.4894 - accuracy: 0.1754 - val_loss: 3.5815 - val_accuracy: 0.1647\n",
            "Epoch 67/300\n",
            "313/313 [==============================] - 3s 9ms/step - loss: 3.4966 - accuracy: 0.1755 - val_loss: 3.4939 - val_accuracy: 0.1774\n",
            "Epoch 68/300\n",
            "313/313 [==============================] - 3s 9ms/step - loss: 3.5008 - accuracy: 0.1746 - val_loss: 3.4510 - val_accuracy: 0.1837\n",
            "Epoch 69/300\n",
            "313/313 [==============================] - 3s 10ms/step - loss: 3.4879 - accuracy: 0.1749 - val_loss: 3.4611 - val_accuracy: 0.1856\n",
            "Epoch 70/300\n",
            "313/313 [==============================] - 3s 9ms/step - loss: 3.4855 - accuracy: 0.1731 - val_loss: 3.5112 - val_accuracy: 0.1721\n",
            "Epoch 71/300\n",
            "313/313 [==============================] - 3s 9ms/step - loss: 3.4932 - accuracy: 0.1761 - val_loss: 3.5082 - val_accuracy: 0.1744\n",
            "Epoch 72/300\n",
            "313/313 [==============================] - 3s 9ms/step - loss: 3.5036 - accuracy: 0.1719 - val_loss: 3.5218 - val_accuracy: 0.1794\n",
            "Epoch 73/300\n",
            "313/313 [==============================] - 3s 9ms/step - loss: 3.4973 - accuracy: 0.1717 - val_loss: 3.5588 - val_accuracy: 0.1612\n",
            "Epoch 74/300\n",
            "313/313 [==============================] - 3s 9ms/step - loss: 3.5034 - accuracy: 0.1730 - val_loss: 3.4620 - val_accuracy: 0.1830\n",
            "Epoch 75/300\n",
            "313/313 [==============================] - 3s 9ms/step - loss: 3.4993 - accuracy: 0.1750 - val_loss: 3.5145 - val_accuracy: 0.1760\n",
            "Epoch 76/300\n",
            "313/313 [==============================] - 3s 9ms/step - loss: 3.4897 - accuracy: 0.1757 - val_loss: 3.5223 - val_accuracy: 0.1783\n",
            "Epoch 77/300\n",
            "313/313 [==============================] - 3s 9ms/step - loss: 3.5039 - accuracy: 0.1725 - val_loss: 3.5804 - val_accuracy: 0.1732\n",
            "Epoch 78/300\n",
            "313/313 [==============================] - 3s 9ms/step - loss: 3.5128 - accuracy: 0.1712 - val_loss: 3.4819 - val_accuracy: 0.1836\n",
            "Epoch 79/300\n",
            "313/313 [==============================] - 3s 10ms/step - loss: 3.5057 - accuracy: 0.1746 - val_loss: 3.5419 - val_accuracy: 0.1749\n",
            "Epoch 80/300\n",
            "313/313 [==============================] - 3s 10ms/step - loss: 3.5059 - accuracy: 0.1727 - val_loss: 3.6541 - val_accuracy: 0.1509\n",
            "Epoch 81/300\n",
            "313/313 [==============================] - 3s 9ms/step - loss: 3.4963 - accuracy: 0.1738 - val_loss: 3.5140 - val_accuracy: 0.1787\n",
            "Epoch 82/300\n",
            "313/313 [==============================] - 3s 10ms/step - loss: 3.5107 - accuracy: 0.1737 - val_loss: 3.5465 - val_accuracy: 0.1690\n",
            "Epoch 83/300\n",
            "313/313 [==============================] - 3s 9ms/step - loss: 3.5060 - accuracy: 0.1737 - val_loss: 3.5302 - val_accuracy: 0.1723\n",
            "Epoch 84/300\n",
            "313/313 [==============================] - 3s 9ms/step - loss: 3.5045 - accuracy: 0.1735 - val_loss: 3.5038 - val_accuracy: 0.1748\n",
            "Epoch 85/300\n",
            "313/313 [==============================] - 3s 9ms/step - loss: 3.5153 - accuracy: 0.1715 - val_loss: 3.4907 - val_accuracy: 0.1774\n",
            "Epoch 86/300\n",
            "313/313 [==============================] - 3s 9ms/step - loss: 3.5080 - accuracy: 0.1721 - val_loss: 3.5080 - val_accuracy: 0.1762\n",
            "Epoch 87/300\n",
            "313/313 [==============================] - 3s 9ms/step - loss: 3.5101 - accuracy: 0.1724 - val_loss: 3.5777 - val_accuracy: 0.1575\n",
            "Epoch 88/300\n",
            "313/313 [==============================] - 3s 10ms/step - loss: 3.5069 - accuracy: 0.1739 - val_loss: 3.5233 - val_accuracy: 0.1789\n"
          ]
        }
      ]
    },
    {
      "cell_type": "code",
      "source": [
        "#in sai so va do chinh xac\n",
        "score = model.evaluate(X_test,y_test,verbose=0)\n",
        "print('Sai số ',score[0])\n",
        "print('Độ chính xác',score[1])\n"
      ],
      "metadata": {
        "colab": {
          "base_uri": "https://localhost:8080/"
        },
        "id": "Nr_A0Ss_PeH0",
        "outputId": "2175543c-8b36-454f-e54a-f633a8d190f0"
      },
      "execution_count": null,
      "outputs": [
        {
          "output_type": "stream",
          "name": "stderr",
          "text": [
            "Exception ignored in: 'zmq.backend.cython.message.Frame.__dealloc__'\n",
            "Traceback (most recent call last):\n",
            "  File \"zmq/backend/cython/checkrc.pxd\", line 13, in zmq.backend.cython.checkrc._check_rc\n",
            "KeyboardInterrupt\n"
          ]
        },
        {
          "output_type": "stream",
          "name": "stdout",
          "text": [
            "Sai số kiểm tra là:  3.5204930305480957\n",
            "Độ chính xác kiểm tra là:  0.1809999942779541\n"
          ]
        }
      ]
    },
    {
      "cell_type": "code",
      "source": [
        "# vẽ quá trình học\n",
        "plt.plot(history.history['accuracy'])\n",
        "plt.plot(history.history['val_accuracy'])\n",
        "plt.title('model accuracy')\n",
        "plt.ylabel('accuracy')\n",
        "plt.xlabel('epochs')\n",
        "plt.legend(['train','Validation'])\n",
        "plt.show()\n"
      ],
      "metadata": {
        "colab": {
          "base_uri": "https://localhost:8080/",
          "height": 295
        },
        "id": "MXnxKLaERKwd",
        "outputId": "7792a341-8752-42a7-eefe-50389a43be09"
      },
      "execution_count": null,
      "outputs": [
        {
          "output_type": "display_data",
          "data": {
            "text/plain": [
              "<Figure size 432x288 with 1 Axes>"
            ],
            "image/png": "[encoded data removed]"
          },
          "metadata": {
            "needs_background": "light"
          }
        }
      ]
    },
    {
      "cell_type": "code",
      "source": [
        "dudoan= ['apple', 'aquarium_fish', 'baby', 'bear', 'beaver', 'bed', 'bee', 'beetle',\n",
        "    'bicycle', 'bottle', 'bowl', 'boy', 'bridge', 'bus', 'butterfly', 'camel',\n",
        "    'can', 'castle', 'caterpillar', 'cattle', 'chair', 'chimpanzee', 'clock',\n",
        "    'cloud', 'cockroach', 'couch', 'crab', 'crocodile', 'cup', 'dinosaur',\n",
        "    'dolphin', 'elephant', 'flatfish', 'forest', 'fox', 'girl', 'hamster',\n",
        "    'house', 'kangaroo', 'keyboard', 'lamp', 'lawn_mower', 'leopard', 'lion',\n",
        "    'lizard', 'lobster', 'man', 'maple_tree', 'motorcycle', 'mountain', 'mouse',\n",
        "    'mushroom', 'oak_tree', 'orange', 'orchid', 'otter', 'palm_tree', 'pear',\n",
        "    'pickup_truck', 'pine_tree', 'plain', 'plate', 'poppy', 'porcupine',\n",
        "    'possum', 'rabbit', 'raccoon', 'ray', 'road', 'rocket', 'rose',\n",
        "    'sea', 'seal', 'shark', 'shrew', 'skunk', 'skyscraper', 'snail', 'snake',\n",
        "    'spider', 'squirrel', 'streetcar', 'sunflower', 'sweet_pepper', 'table',\n",
        "    'tank', 'telephone', 'television', 'tiger', 'tractor', 'train', 'trout',\n",
        "    'tulip', 'turtle', 'wardrobe', 'whale', 'willow_tree', 'wolf', 'woman',\n",
        "    'worm']\n",
        "dudoan = np.array(dudoan)"
      ],
      "metadata": {
        "id": "g4Uc98-FRc9d"
      },
      "execution_count": null,
      "outputs": []
    },
    {
      "cell_type": "code",
      "source": [
        "from tensorflow.keras.utils import load_img, img_to_array\n",
        "import numpy as np\n",
        "filename = \"/content/orange.png\"\n",
        "\n",
        "\n",
        "img = load_img(filename,target_size=(32,32))\n",
        "img_show = plt.imshow(img)\n",
        "plt.show()\n",
        "img = img_to_array(img)\n",
        "img = img.reshape(1,32*32*3)\n",
        "img = img.astype('float32')\n",
        "img = img/255\n",
        "kq = np.argmax(model.predict(img),axis=-1)\n",
        "\n",
        "dudoan[kq]"
      ],
      "metadata": {
        "colab": {
          "base_uri": "https://localhost:8080/",
          "height": 283
        },
        "id": "tVCk-DPJRfoI",
        "outputId": "9a34550a-e021-4f6d-98f7-917af9d1f85f"
      },
      "execution_count": null,
      "outputs": [
        {
          "output_type": "display_data",
          "data": {
            "text/plain": [
              "<Figure size 432x288 with 1 Axes>"
            ],
            "image/png": "[encoded data removed]"
          },
          "metadata": {
            "needs_background": "light"
          }
        },
        {
          "output_type": "execute_result",
          "data": {
            "text/plain": [
              "array(['orange'], dtype='<U13')"
            ]
          },
          "metadata": {},
          "execution_count": 28
        }
      ]
    }
  ]
}