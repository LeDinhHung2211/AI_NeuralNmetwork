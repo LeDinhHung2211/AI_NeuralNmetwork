{
  "nbformat": 4,
  "nbformat_minor": 0,
  "metadata": {
    "colab": {
      "name": "Robot_Kinematic(2bac).ipynb",
      "provenance": [],
      "authorship_tag": "ABX9TyNPkwITW43ChxcxS3i6Opev",
      "include_colab_link": true
    },
    "kernelspec": {
      "name": "python3",
      "display_name": "Python 3"
    },
    "language_info": {
      "name": "python"
    },
    "accelerator": "GPU"
  },
  "cells": [
    {
      "cell_type": "markdown",
      "metadata": {
        "id": "view-in-github",
        "colab_type": "text"
      },
      "source": [
        "<a href=\"https://colab.research.google.com/github/LeDinhHung2211/AI_NeuralNmetwork/blob/main/Robot_Kinematic(2bac).ipynb\" target=\"_parent\"><img src=\"https://colab.research.google.com/assets/colab-badge.svg\" alt=\"Open In Colab\"/></a>"
      ]
    },
    {
      "cell_type": "code",
      "execution_count": null,
      "metadata": {
        "id": "O1p-YaQjagy6"
      },
      "outputs": [],
      "source": [
        "#import libraries\n",
        "import numpy as np\n",
        "import pandas as pd\n",
        "import math\n",
        "import matplotlib.pyplot as plt\n",
        "from sklearn.preprocessing import StandardScaler\n",
        "from sklearn.model_selection import train_test_split\n",
        "from sklearn.metrics import precision_score,recall_score,confusion_matrix,classification_report,accuracy_score,f1_score\n",
        "from keras.models import Sequential\n",
        "from keras.layers import Dense, Activation, Dropout, BatchNormalization, LSTM,Conv2D, MaxPooling2D, Flatten,LeakyReLU\n",
        "from tensorflow.keras.optimizers import RMSprop,SGD\n",
        "from keras import callbacks\n",
        "from keras.callbacks import EarlyStopping\n"
      ]
    },
    {
      "cell_type": "code",
      "source": [
        "data_robot = []\n",
        "l1 = 50\n",
        "l2 = 40\n",
        "for tt1 in range (-60,60):\n",
        "  for tt2 in range (-40,40):\n",
        "    px = l1*np.cos(np.radians(tt1)) + l2*np.cos(np.radians(tt1 + tt2))\n",
        "    py = l1*np.sin(np.radians(tt1)) + l2*np.sin(np.radians(tt1 + tt2))\n",
        "    data_robot.append([tt1,tt2,px,py])\n",
        "data = pd.DataFrame(data_robot,columns=['tt1','tt2','Px','Py'])\n",
        "data"
      ],
      "metadata": {
        "colab": {
          "base_uri": "https://localhost:8080/",
          "height": 424
        },
        "id": "7YwO8IHYayBu",
        "outputId": "4eb81534-82c0-4423-a1fa-bc999c72d12f"
      },
      "execution_count": null,
      "outputs": [
        {
          "output_type": "execute_result",
          "data": {
            "text/plain": [
              "      tt1  tt2         Px         Py\n",
              "0     -60  -40  18.054073 -82.693580\n",
              "1     -60  -39  18.742621 -82.808804\n",
              "2     -60  -38  19.433076 -82.911993\n",
              "3     -60  -37  20.125226 -83.003116\n",
              "4     -60  -36  20.818861 -83.082146\n",
              "...   ...  ...        ...        ...\n",
              "9595   59   35  22.961645  82.760927\n",
              "9596   59   36  22.265674  82.706153\n",
              "9597   59   37  21.570765  82.639241\n",
              "9598   59   38  20.877130  82.560211\n",
              "9599   59   39  20.184980  82.469088\n",
              "\n",
              "[9600 rows x 4 columns]"
            ],
            "text/html": [
              "\n",
              "  <div id=\"df-0e3cd0de-d25e-4c05-a375-a1a07e49ba3d\">\n",
              "    <div class=\"colab-df-container\">\n",
              "      <div>\n",
              "<style scoped>\n",
              "    .dataframe tbody tr th:only-of-type {\n",
              "        vertical-align: middle;\n",
              "    }\n",
              "\n",
              "    .dataframe tbody tr th {\n",
              "        vertical-align: top;\n",
              "    }\n",
              "\n",
              "    .dataframe thead th {\n",
              "        text-align: right;\n",
              "    }\n",
              "</style>\n",
              "<table border=\"1\" class=\"dataframe\">\n",
              "  <thead>\n",
              "    <tr style=\"text-align: right;\">\n",
              "      <th></th>\n",
              "      <th>tt1</th>\n",
              "      <th>tt2</th>\n",
              "      <th>Px</th>\n",
              "      <th>Py</th>\n",
              "    </tr>\n",
              "  </thead>\n",
              "  <tbody>\n",
              "    <tr>\n",
              "      <th>0</th>\n",
              "      <td>-60</td>\n",
              "      <td>-40</td>\n",
              "      <td>18.054073</td>\n",
              "      <td>-82.693580</td>\n",
              "    </tr>\n",
              "    <tr>\n",
              "      <th>1</th>\n",
              "      <td>-60</td>\n",
              "      <td>-39</td>\n",
              "      <td>18.742621</td>\n",
              "      <td>-82.808804</td>\n",
              "    </tr>\n",
              "    <tr>\n",
              "      <th>2</th>\n",
              "      <td>-60</td>\n",
              "      <td>-38</td>\n",
              "      <td>19.433076</td>\n",
              "      <td>-82.911993</td>\n",
              "    </tr>\n",
              "    <tr>\n",
              "      <th>3</th>\n",
              "      <td>-60</td>\n",
              "      <td>-37</td>\n",
              "      <td>20.125226</td>\n",
              "      <td>-83.003116</td>\n",
              "    </tr>\n",
              "    <tr>\n",
              "      <th>4</th>\n",
              "      <td>-60</td>\n",
              "      <td>-36</td>\n",
              "      <td>20.818861</td>\n",
              "      <td>-83.082146</td>\n",
              "    </tr>\n",
              "    <tr>\n",
              "      <th>...</th>\n",
              "      <td>...</td>\n",
              "      <td>...</td>\n",
              "      <td>...</td>\n",
              "      <td>...</td>\n",
              "    </tr>\n",
              "    <tr>\n",
              "      <th>9595</th>\n",
              "      <td>59</td>\n",
              "      <td>35</td>\n",
              "      <td>22.961645</td>\n",
              "      <td>82.760927</td>\n",
              "    </tr>\n",
              "    <tr>\n",
              "      <th>9596</th>\n",
              "      <td>59</td>\n",
              "      <td>36</td>\n",
              "      <td>22.265674</td>\n",
              "      <td>82.706153</td>\n",
              "    </tr>\n",
              "    <tr>\n",
              "      <th>9597</th>\n",
              "      <td>59</td>\n",
              "      <td>37</td>\n",
              "      <td>21.570765</td>\n",
              "      <td>82.639241</td>\n",
              "    </tr>\n",
              "    <tr>\n",
              "      <th>9598</th>\n",
              "      <td>59</td>\n",
              "      <td>38</td>\n",
              "      <td>20.877130</td>\n",
              "      <td>82.560211</td>\n",
              "    </tr>\n",
              "    <tr>\n",
              "      <th>9599</th>\n",
              "      <td>59</td>\n",
              "      <td>39</td>\n",
              "      <td>20.184980</td>\n",
              "      <td>82.469088</td>\n",
              "    </tr>\n",
              "  </tbody>\n",
              "</table>\n",
              "<p>9600 rows × 4 columns</p>\n",
              "</div>\n",
              "      <button class=\"colab-df-convert\" onclick=\"convertToInteractive('df-0e3cd0de-d25e-4c05-a375-a1a07e49ba3d')\"\n",
              "              title=\"Convert this dataframe to an interactive table.\"\n",
              "              style=\"display:none;\">\n",
              "        \n",
              "  <svg xmlns=\"http://www.w3.org/2000/svg\" height=\"24px\"viewBox=\"0 0 24 24\"\n",
              "       width=\"24px\">\n",
              "    <path d=\"M0 0h24v24H0V0z\" fill=\"none\"/>\n",
              "    <path d=\"M18.56 5.44l.94 2.06.94-2.06 2.06-.94-2.06-.94-.94-2.06-.94 2.06-2.06.94zm-11 1L8.5 8.5l.94-2.06 2.06-.94-2.06-.94L8.5 2.5l-.94 2.06-2.06.94zm10 10l.94 2.06.94-2.06 2.06-.94-2.06-.94-.94-2.06-.94 2.06-2.06.94z\"/><path d=\"M17.41 7.96l-1.37-1.37c-.4-.4-.92-.59-1.43-.59-.52 0-1.04.2-1.43.59L10.3 9.45l-7.72 7.72c-.78.78-.78 2.05 0 2.83L4 21.41c.39.39.9.59 1.41.59.51 0 1.02-.2 1.41-.59l7.78-7.78 2.81-2.81c.8-.78.8-2.07 0-2.86zM5.41 20L4 18.59l7.72-7.72 1.47 1.35L5.41 20z\"/>\n",
              "  </svg>\n",
              "      </button>\n",
              "      \n",
              "  <style>\n",
              "    .colab-df-container {\n",
              "      display:flex;\n",
              "      flex-wrap:wrap;\n",
              "      gap: 12px;\n",
              "    }\n",
              "\n",
              "    .colab-df-convert {\n",
              "      background-color: #E8F0FE;\n",
              "      border: none;\n",
              "      border-radius: 50%;\n",
              "      cursor: pointer;\n",
              "      display: none;\n",
              "      fill: #1967D2;\n",
              "      height: 32px;\n",
              "      padding: 0 0 0 0;\n",
              "      width: 32px;\n",
              "    }\n",
              "\n",
              "    .colab-df-convert:hover {\n",
              "      background-color: #E2EBFA;\n",
              "      box-shadow: 0px 1px 2px rgba(60, 64, 67, 0.3), 0px 1px 3px 1px rgba(60, 64, 67, 0.15);\n",
              "      fill: #174EA6;\n",
              "    }\n",
              "\n",
              "    [theme=dark] .colab-df-convert {\n",
              "      background-color: #3B4455;\n",
              "      fill: #D2E3FC;\n",
              "    }\n",
              "\n",
              "    [theme=dark] .colab-df-convert:hover {\n",
              "      background-color: #434B5C;\n",
              "      box-shadow: 0px 1px 3px 1px rgba(0, 0, 0, 0.15);\n",
              "      filter: drop-shadow(0px 1px 2px rgba(0, 0, 0, 0.3));\n",
              "      fill: #FFFFFF;\n",
              "    }\n",
              "  </style>\n",
              "\n",
              "      <script>\n",
              "        const buttonEl =\n",
              "          document.querySelector('#df-0e3cd0de-d25e-4c05-a375-a1a07e49ba3d button.colab-df-convert');\n",
              "        buttonEl.style.display =\n",
              "          google.colab.kernel.accessAllowed ? 'block' : 'none';\n",
              "\n",
              "        async function convertToInteractive(key) {\n",
              "          const element = document.querySelector('#df-0e3cd0de-d25e-4c05-a375-a1a07e49ba3d');\n",
              "          const dataTable =\n",
              "            await google.colab.kernel.invokeFunction('convertToInteractive',\n",
              "                                                     [key], {});\n",
              "          if (!dataTable) return;\n",
              "\n",
              "          const docLinkHtml = 'Like what you see? Visit the ' +\n",
              "            '<a target=\"_blank\" href=https://colab.research.google.com/notebooks/data_table.ipynb>data table notebook</a>'\n",
              "            + ' to learn more about interactive tables.';\n",
              "          element.innerHTML = '';\n",
              "          dataTable['output_type'] = 'display_data';\n",
              "          await google.colab.output.renderOutput(dataTable, element);\n",
              "          const docLink = document.createElement('div');\n",
              "          docLink.innerHTML = docLinkHtml;\n",
              "          element.appendChild(docLink);\n",
              "        }\n",
              "      </script>\n",
              "    </div>\n",
              "  </div>\n",
              "  "
            ]
          },
          "metadata": {},
          "execution_count": 34
        }
      ]
    },
    {
      "cell_type": "code",
      "source": [
        "Y_df=data.drop(['Px','Py'],axis =1)\n",
        "X_df=data.drop(['tt1','tt2'],axis =1)\n",
        "print(X_df.shape,Y_df.shape)"
      ],
      "metadata": {
        "colab": {
          "base_uri": "https://localhost:8080/"
        },
        "id": "_jQkG018a1n8",
        "outputId": "692eca5f-fcf8-432f-ae3b-ba9db4da9e6a"
      },
      "execution_count": null,
      "outputs": [
        {
          "output_type": "stream",
          "name": "stdout",
          "text": [
            "(9600, 2) (9600, 2)\n"
          ]
        }
      ]
    },
    {
      "cell_type": "code",
      "source": [
        "X_train,X_test,Y_train,Y_test = train_test_split(X_df,Y_df,test_size=0.2,random_state =7)\n",
        "print(X_train.shape,Y_train.shape,X_test.shape,Y_test.shape)"
      ],
      "metadata": {
        "colab": {
          "base_uri": "https://localhost:8080/"
        },
        "id": "peTfAjCRa4Ft",
        "outputId": "89116456-dfb5-4c8a-a367-1e99e9770b77"
      },
      "execution_count": null,
      "outputs": [
        {
          "output_type": "stream",
          "name": "stdout",
          "text": [
            "(7680, 2) (7680, 2) (1920, 2) (1920, 2)\n"
          ]
        }
      ]
    },
    {
      "cell_type": "code",
      "source": [
        "# Create model\n",
        "model = Sequential()\n",
        "model.add(Dense(64,kernel_initializer='normal',activation='relu',input_shape=(2,)))\n",
        "model.add(Dense(64,activation ='relu'))\n",
        "model.add(Dense(64,activation ='relu'))\n",
        "model.add(Dense(2))\n",
        "model.summary()\n",
        "\n",
        "opt = SGD(learning_rate=0.001,momentum=0.1) #toc do hoc 0.01, momen dong luong 0.9 'Ftrl'\n",
        "model.compile(loss='mse',optimizer=opt,metrics=['accuracy'])"
      ],
      "metadata": {
        "colab": {
          "base_uri": "https://localhost:8080/"
        },
        "id": "NECIidHna5WD",
        "outputId": "658ebdeb-05a7-4af7-e6dd-a72ac32a32a6"
      },
      "execution_count": null,
      "outputs": [
        {
          "output_type": "stream",
          "name": "stdout",
          "text": [
            "Model: \"sequential_4\"\n",
            "_________________________________________________________________\n",
            " Layer (type)                Output Shape              Param #   \n",
            "=================================================================\n",
            " dense_20 (Dense)            (None, 64)                192       \n",
            "                                                                 \n",
            " dense_21 (Dense)            (None, 64)                4160      \n",
            "                                                                 \n",
            " dense_22 (Dense)            (None, 64)                4160      \n",
            "                                                                 \n",
            " dense_23 (Dense)            (None, 2)                 130       \n",
            "                                                                 \n",
            "=================================================================\n",
            "Total params: 8,642\n",
            "Trainable params: 8,642\n",
            "Non-trainable params: 0\n",
            "_________________________________________________________________\n"
          ]
        }
      ]
    },
    {
      "cell_type": "code",
      "source": [
        "# Compile model\n",
        "model.compile(loss='mse', optimizer=RMSprop(), metrics = ['accuracy']) \n"
      ],
      "metadata": {
        "id": "_yrWpO-ma7vZ"
      },
      "execution_count": null,
      "outputs": []
    },
    {
      "cell_type": "code",
      "source": [
        "# Train model\n",
        "history = model.fit(X_train, Y_train, batch_size = 128, epochs=50,verbose=1,validation_split=0.2, callbacks=[EarlyStopping(monitor='val_loss', patience=20)])\n",
        "\n"
      ],
      "metadata": {
        "colab": {
          "base_uri": "https://localhost:8080/"
        },
        "id": "z9YXuBsVa-d8",
        "outputId": "90df21ca-72bd-4705-c4f1-ea59015ae640"
      },
      "execution_count": null,
      "outputs": [
        {
          "output_type": "stream",
          "name": "stdout",
          "text": [
            "Epoch 1/50\n",
            "48/48 [==============================] - 0s 6ms/step - loss: 271.6651 - accuracy: 0.7601 - val_loss: 278.4796 - val_accuracy: 0.7474\n",
            "Epoch 2/50\n",
            "48/48 [==============================] - 0s 4ms/step - loss: 271.5824 - accuracy: 0.7625 - val_loss: 278.7487 - val_accuracy: 0.7474\n",
            "Epoch 3/50\n",
            "48/48 [==============================] - 0s 4ms/step - loss: 271.2706 - accuracy: 0.7611 - val_loss: 276.9128 - val_accuracy: 0.7480\n",
            "Epoch 4/50\n",
            "48/48 [==============================] - 0s 5ms/step - loss: 271.4431 - accuracy: 0.7614 - val_loss: 279.0995 - val_accuracy: 0.7467\n",
            "Epoch 5/50\n",
            "48/48 [==============================] - 0s 4ms/step - loss: 271.6148 - accuracy: 0.7632 - val_loss: 279.2593 - val_accuracy: 0.7474\n",
            "Epoch 6/50\n",
            "48/48 [==============================] - 0s 5ms/step - loss: 271.3908 - accuracy: 0.7603 - val_loss: 276.7643 - val_accuracy: 0.7480\n",
            "Epoch 7/50\n",
            "48/48 [==============================] - 0s 4ms/step - loss: 270.4886 - accuracy: 0.7612 - val_loss: 279.2717 - val_accuracy: 0.7461\n",
            "Epoch 8/50\n",
            "48/48 [==============================] - 0s 4ms/step - loss: 271.3418 - accuracy: 0.7593 - val_loss: 276.3410 - val_accuracy: 0.7467\n",
            "Epoch 9/50\n",
            "48/48 [==============================] - 0s 5ms/step - loss: 271.1413 - accuracy: 0.7603 - val_loss: 281.4356 - val_accuracy: 0.7487\n",
            "Epoch 10/50\n",
            "48/48 [==============================] - 0s 5ms/step - loss: 270.9610 - accuracy: 0.7620 - val_loss: 279.5770 - val_accuracy: 0.7493\n",
            "Epoch 11/50\n",
            "48/48 [==============================] - 0s 4ms/step - loss: 270.8477 - accuracy: 0.7594 - val_loss: 277.8746 - val_accuracy: 0.7461\n",
            "Epoch 12/50\n",
            "48/48 [==============================] - 0s 4ms/step - loss: 271.0667 - accuracy: 0.7612 - val_loss: 280.4691 - val_accuracy: 0.7474\n",
            "Epoch 13/50\n",
            "48/48 [==============================] - 0s 5ms/step - loss: 271.1663 - accuracy: 0.7624 - val_loss: 277.2032 - val_accuracy: 0.7467\n",
            "Epoch 14/50\n",
            "48/48 [==============================] - 0s 5ms/step - loss: 270.9056 - accuracy: 0.7638 - val_loss: 277.3277 - val_accuracy: 0.7493\n",
            "Epoch 15/50\n",
            "48/48 [==============================] - 0s 5ms/step - loss: 271.0196 - accuracy: 0.7612 - val_loss: 276.7438 - val_accuracy: 0.7480\n",
            "Epoch 16/50\n",
            "48/48 [==============================] - 0s 5ms/step - loss: 270.6802 - accuracy: 0.7624 - val_loss: 279.5814 - val_accuracy: 0.7480\n",
            "Epoch 17/50\n",
            "48/48 [==============================] - 0s 4ms/step - loss: 270.6706 - accuracy: 0.7599 - val_loss: 278.0340 - val_accuracy: 0.7474\n",
            "Epoch 18/50\n",
            "48/48 [==============================] - 0s 5ms/step - loss: 270.9084 - accuracy: 0.7620 - val_loss: 276.5395 - val_accuracy: 0.7474\n",
            "Epoch 19/50\n",
            "48/48 [==============================] - 0s 4ms/step - loss: 271.3806 - accuracy: 0.7598 - val_loss: 277.5249 - val_accuracy: 0.7441\n",
            "Epoch 20/50\n",
            "48/48 [==============================] - 0s 5ms/step - loss: 270.7392 - accuracy: 0.7616 - val_loss: 280.8892 - val_accuracy: 0.7474\n",
            "Epoch 21/50\n",
            "48/48 [==============================] - 0s 4ms/step - loss: 270.9174 - accuracy: 0.7612 - val_loss: 277.8639 - val_accuracy: 0.7435\n",
            "Epoch 22/50\n",
            "48/48 [==============================] - 0s 4ms/step - loss: 270.8637 - accuracy: 0.7632 - val_loss: 277.1682 - val_accuracy: 0.7467\n",
            "Epoch 23/50\n",
            "48/48 [==============================] - 0s 4ms/step - loss: 270.7577 - accuracy: 0.7620 - val_loss: 277.5925 - val_accuracy: 0.7467\n",
            "Epoch 24/50\n",
            "48/48 [==============================] - 0s 5ms/step - loss: 270.4515 - accuracy: 0.7640 - val_loss: 279.4314 - val_accuracy: 0.7474\n",
            "Epoch 25/50\n",
            "48/48 [==============================] - 0s 5ms/step - loss: 270.4013 - accuracy: 0.7617 - val_loss: 277.8528 - val_accuracy: 0.7474\n",
            "Epoch 26/50\n",
            "48/48 [==============================] - 0s 4ms/step - loss: 270.5854 - accuracy: 0.7614 - val_loss: 277.6136 - val_accuracy: 0.7474\n",
            "Epoch 27/50\n",
            "48/48 [==============================] - 0s 4ms/step - loss: 270.6863 - accuracy: 0.7601 - val_loss: 276.6799 - val_accuracy: 0.7474\n",
            "Epoch 28/50\n",
            "48/48 [==============================] - 0s 5ms/step - loss: 270.3482 - accuracy: 0.7625 - val_loss: 277.1129 - val_accuracy: 0.7474\n"
          ]
        }
      ]
    },
    {
      "cell_type": "code",
      "source": [
        "test = np.array([[50,40],[0,90]])\n",
        "y_predict = model.predict(test)\n",
        "print(y_predict)"
      ],
      "metadata": {
        "colab": {
          "base_uri": "https://localhost:8080/"
        },
        "id": "bEDYiJQQcPAP",
        "outputId": "1b8166a7-2a56-4596-e0ee-835a4c3a96d6"
      },
      "execution_count": null,
      "outputs": [
        {
          "output_type": "stream",
          "name": "stdout",
          "text": [
            "[[28.337875  -0.3039411]\n",
            " [63.192772  49.580482 ]]\n"
          ]
        }
      ]
    },
    {
      "cell_type": "code",
      "source": [
        ""
      ],
      "metadata": {
        "id": "kmUV4rrnjXEV"
      },
      "execution_count": null,
      "outputs": []
    }
  ]
}