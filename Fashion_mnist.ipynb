{
  "nbformat": 4,
  "nbformat_minor": 0,
  "metadata": {
    "colab": {
      "name": "Fashion_mnist.ipynb",
      "provenance": [],
      "authorship_tag": "ABX9TyPe1+v+IYWQlHytmnP/7xl1",
      "include_colab_link": true
    },
    "kernelspec": {
      "name": "python3",
      "display_name": "Python 3"
    },
    "language_info": {
      "name": "python"
    }
  },
  "cells": [
    {
      "cell_type": "markdown",
      "metadata": {
        "id": "view-in-github",
        "colab_type": "text"
      },
      "source": [
        "<a href=\"https://colab.research.google.com/github/LeDinhHung2211/AI_NeuralNmetwork/blob/main/Fashion_mnist.ipynb\" target=\"_parent\"><img src=\"https://colab.research.google.com/assets/colab-badge.svg\" alt=\"Open In Colab\"/></a>"
      ]
    },
    {
      "cell_type": "code",
      "source": [
        "#import library\n",
        "import numpy as np\n",
        "import pandas as pd\n",
        "from keras.datasets import fashion_mnist\n",
        "import matplotlib.pyplot as plt\n",
        "from keras.utils import np_utils\n",
        "from keras.models import Sequential\n",
        "from keras.layers import Dense, Dropout\n",
        "from tensorflow.keras.optimizers import RMSprop\n",
        "from keras.callbacks import EarlyStopping\n",
        "from keras.backend import dropout"
      ],
      "metadata": {
        "id": "XFH8COqBWQOA"
      },
      "execution_count": 4,
      "outputs": []
    },
    {
      "cell_type": "code",
      "source": [
        "(X_train, y_train),(X_test,y_test) = fashion_mnist.load_data()"
      ],
      "metadata": {
        "id": "lkVnHH7PWRFw",
        "colab": {
          "base_uri": "https://localhost:8080/"
        },
        "outputId": "843c3a46-7efe-4bf4-ad7b-16fb77b0c172"
      },
      "execution_count": 5,
      "outputs": [
        {
          "output_type": "stream",
          "name": "stdout",
          "text": [
            "Downloading data from https://storage.googleapis.com/tensorflow/tf-keras-datasets/train-labels-idx1-ubyte.gz\n",
            "32768/29515 [=================================] - 0s 0us/step\n",
            "40960/29515 [=========================================] - 0s 0us/step\n",
            "Downloading data from https://storage.googleapis.com/tensorflow/tf-keras-datasets/train-images-idx3-ubyte.gz\n",
            "26427392/26421880 [==============================] - 0s 0us/step\n",
            "26435584/26421880 [==============================] - 0s 0us/step\n",
            "Downloading data from https://storage.googleapis.com/tensorflow/tf-keras-datasets/t10k-labels-idx1-ubyte.gz\n",
            "16384/5148 [===============================================================================================] - 0s 0us/step\n",
            "Downloading data from https://storage.googleapis.com/tensorflow/tf-keras-datasets/t10k-images-idx3-ubyte.gz\n",
            "4423680/4422102 [==============================] - 0s 0us/step\n",
            "4431872/4422102 [==============================] - 0s 0us/step\n"
          ]
        }
      ]
    },
    {
      "cell_type": "code",
      "source": [
        "X_train.shape, y_train.shape,X_test.shape,y_test.shape"
      ],
      "metadata": {
        "colab": {
          "base_uri": "https://localhost:8080/"
        },
        "id": "Q7LXSHcwWSLL",
        "outputId": "add158aa-13fc-418f-d00f-867e77153298"
      },
      "execution_count": 6,
      "outputs": [
        {
          "output_type": "execute_result",
          "data": {
            "text/plain": [
              "((60000, 28, 28), (60000,), (10000, 28, 28), (10000,))"
            ]
          },
          "metadata": {},
          "execution_count": 6
        }
      ]
    },
    {
      "cell_type": "code",
      "source": [
        "#x_test,x_train là mảng 3 chiều để chuyển về 2 chiều ta lấy 28x28\n",
        "X_train = X_train.reshape(-1,X_train.shape[1]*X_train.shape[2])\n",
        "X_test = X_test.reshape(-1,X_test.shape[1]*X_test.shape[2])"
      ],
      "metadata": {
        "id": "jWPDkBcxWTOr"
      },
      "execution_count": 7,
      "outputs": []
    },
    {
      "cell_type": "code",
      "source": [
        "#chuẩn hóa \n",
        "X_train = X_train.astype('float32')\n",
        "X_test = X_test.astype('float32')\n",
        "X_train /=255\n",
        "X_test /=255"
      ],
      "metadata": {
        "id": "Mo641tC1WUYe"
      },
      "execution_count": 8,
      "outputs": []
    },
    {
      "cell_type": "code",
      "source": [
        "#chuyển y thành 10 class\n",
        "y_train = np_utils.to_categorical(y_train,10)\n",
        "y_test = np_utils.to_categorical(y_test,10)"
      ],
      "metadata": {
        "id": "UYz-3C0lWVxL"
      },
      "execution_count": 9,
      "outputs": []
    },
    {
      "cell_type": "code",
      "source": [
        "# Tạo model ANN\n",
        "model = Sequential()\n",
        "model.add(Dense(500,activation='relu',input_shape=(784,)))\n",
        "model.add(Dropout(0.2))\n",
        "model.add(Dense(200,activation='relu'))\n",
        "model.add(Dropout(0.2))\n",
        "model.add(Dense(100,activation='relu'))\n",
        "model.add(Dropout(0.2))\n",
        "model.add(Dense(10,activation='softmax'))\n",
        "model.summary()"
      ],
      "metadata": {
        "colab": {
          "base_uri": "https://localhost:8080/"
        },
        "id": "CXkjTnVpWW7r",
        "outputId": "7d18322b-440e-46b3-b89c-fc203b2b3346"
      },
      "execution_count": 10,
      "outputs": [
        {
          "output_type": "stream",
          "name": "stdout",
          "text": [
            "Model: \"sequential\"\n",
            "_________________________________________________________________\n",
            " Layer (type)                Output Shape              Param #   \n",
            "=================================================================\n",
            " dense (Dense)               (None, 500)               392500    \n",
            "                                                                 \n",
            " dropout (Dropout)           (None, 500)               0         \n",
            "                                                                 \n",
            " dense_1 (Dense)             (None, 200)               100200    \n",
            "                                                                 \n",
            " dropout_1 (Dropout)         (None, 200)               0         \n",
            "                                                                 \n",
            " dense_2 (Dense)             (None, 100)               20100     \n",
            "                                                                 \n",
            " dropout_2 (Dropout)         (None, 100)               0         \n",
            "                                                                 \n",
            " dense_3 (Dense)             (None, 10)                1010      \n",
            "                                                                 \n",
            "=================================================================\n",
            "Total params: 513,810\n",
            "Trainable params: 513,810\n",
            "Non-trainable params: 0\n",
            "_________________________________________________________________\n"
          ]
        }
      ]
    },
    {
      "cell_type": "code",
      "source": [
        "model.compile(loss='categorical_crossentropy',optimizer=RMSprop(), metrics=['accuracy'])"
      ],
      "metadata": {
        "id": "Q5P-UKbPWYTA"
      },
      "execution_count": 11,
      "outputs": []
    },
    {
      "cell_type": "code",
      "source": [
        "history = model.fit(X_train,y_train,batch_size=128,epochs=30,verbose=1,validation_split=0.2,callbacks=[EarlyStopping(monitor='val_loss',patience=70)])\n"
      ],
      "metadata": {
        "colab": {
          "base_uri": "https://localhost:8080/"
        },
        "id": "8LMagypXWZoq",
        "outputId": "316ca0d2-3df1-4715-d4ba-1b3d0d57f964"
      },
      "execution_count": 12,
      "outputs": [
        {
          "output_type": "stream",
          "name": "stdout",
          "text": [
            "Epoch 1/30\n",
            "375/375 [==============================] - 6s 15ms/step - loss: 0.6554 - accuracy: 0.7653 - val_loss: 0.4692 - val_accuracy: 0.8331\n",
            "Epoch 2/30\n",
            "375/375 [==============================] - 5s 14ms/step - loss: 0.4440 - accuracy: 0.8376 - val_loss: 0.4747 - val_accuracy: 0.8306\n",
            "Epoch 3/30\n",
            "375/375 [==============================] - 5s 14ms/step - loss: 0.4004 - accuracy: 0.8549 - val_loss: 0.3687 - val_accuracy: 0.8681\n",
            "Epoch 4/30\n",
            "375/375 [==============================] - 5s 14ms/step - loss: 0.3742 - accuracy: 0.8655 - val_loss: 0.3576 - val_accuracy: 0.8703\n",
            "Epoch 5/30\n",
            "375/375 [==============================] - 5s 14ms/step - loss: 0.3551 - accuracy: 0.8722 - val_loss: 0.3673 - val_accuracy: 0.8690\n",
            "Epoch 6/30\n",
            "375/375 [==============================] - 5s 14ms/step - loss: 0.3460 - accuracy: 0.8765 - val_loss: 0.3437 - val_accuracy: 0.8791\n",
            "Epoch 7/30\n",
            "375/375 [==============================] - 5s 14ms/step - loss: 0.3331 - accuracy: 0.8808 - val_loss: 0.3341 - val_accuracy: 0.8823\n",
            "Epoch 8/30\n",
            "375/375 [==============================] - 6s 15ms/step - loss: 0.3240 - accuracy: 0.8824 - val_loss: 0.3676 - val_accuracy: 0.8737\n",
            "Epoch 9/30\n",
            "375/375 [==============================] - 5s 14ms/step - loss: 0.3173 - accuracy: 0.8863 - val_loss: 0.3678 - val_accuracy: 0.8706\n",
            "Epoch 10/30\n",
            "375/375 [==============================] - 5s 14ms/step - loss: 0.3104 - accuracy: 0.8895 - val_loss: 0.3426 - val_accuracy: 0.8876\n",
            "Epoch 11/30\n",
            "375/375 [==============================] - 5s 14ms/step - loss: 0.3067 - accuracy: 0.8914 - val_loss: 0.3811 - val_accuracy: 0.8773\n",
            "Epoch 12/30\n",
            "375/375 [==============================] - 5s 14ms/step - loss: 0.3032 - accuracy: 0.8922 - val_loss: 0.3310 - val_accuracy: 0.8867\n",
            "Epoch 13/30\n",
            "375/375 [==============================] - 5s 14ms/step - loss: 0.2972 - accuracy: 0.8933 - val_loss: 0.3532 - val_accuracy: 0.8875\n",
            "Epoch 14/30\n",
            "375/375 [==============================] - 5s 14ms/step - loss: 0.2977 - accuracy: 0.8937 - val_loss: 0.3339 - val_accuracy: 0.8887\n",
            "Epoch 15/30\n",
            "375/375 [==============================] - 5s 13ms/step - loss: 0.2934 - accuracy: 0.8959 - val_loss: 0.3524 - val_accuracy: 0.8888\n",
            "Epoch 16/30\n",
            "375/375 [==============================] - 5s 14ms/step - loss: 0.2908 - accuracy: 0.8971 - val_loss: 0.3571 - val_accuracy: 0.8840\n",
            "Epoch 17/30\n",
            "375/375 [==============================] - 5s 14ms/step - loss: 0.2868 - accuracy: 0.8982 - val_loss: 0.3758 - val_accuracy: 0.8873\n",
            "Epoch 18/30\n",
            "375/375 [==============================] - 5s 14ms/step - loss: 0.2817 - accuracy: 0.9000 - val_loss: 0.3692 - val_accuracy: 0.8922\n",
            "Epoch 19/30\n",
            "375/375 [==============================] - 5s 14ms/step - loss: 0.2888 - accuracy: 0.8996 - val_loss: 0.3556 - val_accuracy: 0.8944\n",
            "Epoch 20/30\n",
            "375/375 [==============================] - 5s 14ms/step - loss: 0.2868 - accuracy: 0.8996 - val_loss: 0.3662 - val_accuracy: 0.8903\n",
            "Epoch 21/30\n",
            "375/375 [==============================] - 5s 14ms/step - loss: 0.2842 - accuracy: 0.9009 - val_loss: 0.3743 - val_accuracy: 0.8873\n",
            "Epoch 22/30\n",
            "375/375 [==============================] - 5s 14ms/step - loss: 0.2800 - accuracy: 0.9020 - val_loss: 0.3990 - val_accuracy: 0.8821\n",
            "Epoch 23/30\n",
            "375/375 [==============================] - 5s 14ms/step - loss: 0.2775 - accuracy: 0.9026 - val_loss: 0.3646 - val_accuracy: 0.8905\n",
            "Epoch 24/30\n",
            "375/375 [==============================] - 5s 14ms/step - loss: 0.2764 - accuracy: 0.9038 - val_loss: 0.4311 - val_accuracy: 0.8811\n",
            "Epoch 25/30\n",
            "375/375 [==============================] - 5s 14ms/step - loss: 0.2778 - accuracy: 0.9043 - val_loss: 0.3979 - val_accuracy: 0.8878\n",
            "Epoch 26/30\n",
            "375/375 [==============================] - 5s 14ms/step - loss: 0.2744 - accuracy: 0.9049 - val_loss: 0.4196 - val_accuracy: 0.8919\n",
            "Epoch 27/30\n",
            "375/375 [==============================] - 5s 14ms/step - loss: 0.2730 - accuracy: 0.9067 - val_loss: 0.4121 - val_accuracy: 0.8941\n",
            "Epoch 28/30\n",
            "375/375 [==============================] - 5s 14ms/step - loss: 0.2775 - accuracy: 0.9045 - val_loss: 0.4158 - val_accuracy: 0.8838\n",
            "Epoch 29/30\n",
            "375/375 [==============================] - 5s 14ms/step - loss: 0.2757 - accuracy: 0.9054 - val_loss: 0.4180 - val_accuracy: 0.8908\n",
            "Epoch 30/30\n",
            "375/375 [==============================] - 5s 14ms/step - loss: 0.2741 - accuracy: 0.9074 - val_loss: 0.4148 - val_accuracy: 0.8942\n"
          ]
        }
      ]
    },
    {
      "cell_type": "code",
      "source": [
        "#in sai so và độ chính xác\n",
        "score = model.evaluate(X_test,y_test,verbose=0)\n",
        "print('Sai số  ',score[0])\n",
        "print('Độ chính xác  ',score[1])"
      ],
      "metadata": {
        "colab": {
          "base_uri": "https://localhost:8080/"
        },
        "id": "q921VHeKdbuH",
        "outputId": "130761ef-8ce1-4bf8-d06a-e80fec443b8d"
      },
      "execution_count": 13,
      "outputs": [
        {
          "output_type": "stream",
          "name": "stdout",
          "text": [
            "Sai số   0.4818847179412842\n",
            "Độ chính xác   0.8863999843597412\n"
          ]
        }
      ]
    },
    {
      "cell_type": "code",
      "source": [
        "#Quá trình học\n",
        "plt.plot(history.history['accuracy'])\n",
        "plt.plot(history.history['val_accuracy'])\n",
        "plt.title('model accuracy')\n",
        "plt.ylabel('accuracy')\n",
        "plt.xlabel('epochs')\n",
        "plt.legend(['train','Validation'])\n",
        "plt.show()"
      ],
      "metadata": {
        "colab": {
          "base_uri": "https://localhost:8080/",
          "height": 295
        },
        "id": "RxNOnGIFdhGS",
        "outputId": "7c939c24-4498-47df-9b51-88a755a3f12e"
      },
      "execution_count": 14,
      "outputs": [
        {
          "output_type": "display_data",
          "data": {
            "text/plain": [
              "<Figure size 432x288 with 1 Axes>"
            ],
            "image/png": "[encoded data removed]"
          },
          "metadata": {
            "needs_background": "light"
          }
        }
      ]
    },
    {
      "cell_type": "code",
      "source": [
        ""
      ],
      "metadata": {
        "id": "wPlrVZcIdjiY"
      },
      "execution_count": null,
      "outputs": []
    }
  ]
}