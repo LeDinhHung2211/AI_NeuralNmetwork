{
  "nbformat": 4,
  "nbformat_minor": 0,
  "metadata": {
    "colab": {
      "name": "Cifar10.ipynb",
      "provenance": [],
      "authorship_tag": "ABX9TyM15IPE2+ZgboBolqqY3jVy",
      "include_colab_link": true
    },
    "kernelspec": {
      "name": "python3",
      "display_name": "Python 3"
    },
    "language_info": {
      "name": "python"
    },
    "accelerator": "GPU"
  },
  "cells": [
    {
      "cell_type": "markdown",
      "metadata": {
        "id": "view-in-github",
        "colab_type": "text"
      },
      "source": [
        "<a href=\"https://colab.research.google.com/github/LeDinhHung2211/AI_NeuralNmetwork/blob/main/Cifar10.ipynb\" target=\"_parent\"><img src=\"https://colab.research.google.com/assets/colab-badge.svg\" alt=\"Open In Colab\"/></a>"
      ]
    },
    {
      "cell_type": "code",
      "execution_count": null,
      "metadata": {
        "id": "6usMRdm-DJ8u"
      },
      "outputs": [],
      "source": [
        "#import library\n",
        "import numpy as np\n",
        "import pandas as pd\n",
        "from keras.datasets import cifar10\n",
        "import matplotlib.pyplot as plt\n",
        "from keras.utils import np_utils\n",
        "from keras.models import Sequential\n",
        "from keras.layers import Dense, Dropout\n",
        "from tensorflow.keras.optimizers import RMSprop\n",
        "from keras.callbacks import EarlyStopping\n",
        "from keras.backend import dropout\n"
      ]
    },
    {
      "cell_type": "code",
      "source": [
        "(X_train, y_train),(X_test,y_test) = cifar10.load_data()"
      ],
      "metadata": {
        "colab": {
          "base_uri": "https://localhost:8080/"
        },
        "id": "ZH-hEMkDFCN1",
        "outputId": "718af02b-928c-423c-9992-f4a1069fe93e"
      },
      "execution_count": null,
      "outputs": [
        {
          "output_type": "stream",
          "name": "stdout",
          "text": [
            "Downloading data from https://www.cs.toronto.edu/~kriz/cifar-10-python.tar.gz\n",
            "170500096/170498071 [==============================] - 3s 0us/step\n",
            "170508288/170498071 [==============================] - 3s 0us/step\n"
          ]
        }
      ]
    },
    {
      "cell_type": "code",
      "source": [
        "X_train.shape, y_train.shape,X_test.shape,y_test.shape"
      ],
      "metadata": {
        "colab": {
          "base_uri": "https://localhost:8080/"
        },
        "id": "1NUF5u-uFDQ1",
        "outputId": "52e2d725-fefa-4c92-85ac-4a827967448f"
      },
      "execution_count": null,
      "outputs": [
        {
          "output_type": "execute_result",
          "data": {
            "text/plain": [
              "((50000, 32, 32, 3), (50000, 1), (10000, 32, 32, 3), (10000, 1))"
            ]
          },
          "metadata": {},
          "execution_count": 3
        }
      ]
    },
    {
      "cell_type": "code",
      "source": [
        "#reshape kích thước\n",
        "X_train = X_train.reshape(-1,X_train.shape[1]*X_train.shape[2]*X_train.shape[3])\n",
        "X_test = X_test.reshape(-1,3072)\n"
      ],
      "metadata": {
        "id": "Uu-HkRZtFEVI"
      },
      "execution_count": null,
      "outputs": []
    },
    {
      "cell_type": "code",
      "source": [
        "#chuẩn hóa \n",
        "X_train = X_train.astype('float32')\n",
        "X_test = X_test.astype('float32')\n",
        "X_train = X_train/255\n",
        "X_test = X_test/255\n"
      ],
      "metadata": {
        "id": "FHMZgZ-0FFZo"
      },
      "execution_count": null,
      "outputs": []
    },
    {
      "cell_type": "code",
      "source": [
        "#one hot encoding\n",
        "y_train = np_utils.to_categorical(y_train)\n",
        "y_test = np_utils.to_categorical(y_test)\n"
      ],
      "metadata": {
        "id": "q--0Q1YWFGi5"
      },
      "execution_count": null,
      "outputs": []
    },
    {
      "cell_type": "code",
      "source": [
        "# buid model ANN\n",
        "model = Sequential()\n",
        "model.add(Dense(512,activation='relu',input_shape=(3072,)))\n",
        "model.add(Dropout(0.2))\n",
        "model.add(Dense(256,activation='relu'))\n",
        "model.add(Dropout(0.2))\n",
        "model.add(Dense(512,activation='relu'))\n",
        "model.add(Dropout(0.2))\n",
        "model.add(Dense(10,activation='softmax'))\n",
        "model.summary()\n"
      ],
      "metadata": {
        "colab": {
          "base_uri": "https://localhost:8080/"
        },
        "id": "zwpUjfF-FIaz",
        "outputId": "7db963ca-b5a3-4d97-bcb9-c0358dbfb1a6"
      },
      "execution_count": null,
      "outputs": [
        {
          "output_type": "stream",
          "name": "stdout",
          "text": [
            "Model: \"sequential\"\n",
            "_________________________________________________________________\n",
            " Layer (type)                Output Shape              Param #   \n",
            "=================================================================\n",
            " dense (Dense)               (None, 512)               1573376   \n",
            "                                                                 \n",
            " dropout (Dropout)           (None, 512)               0         \n",
            "                                                                 \n",
            " dense_1 (Dense)             (None, 256)               131328    \n",
            "                                                                 \n",
            " dropout_1 (Dropout)         (None, 256)               0         \n",
            "                                                                 \n",
            " dense_2 (Dense)             (None, 512)               131584    \n",
            "                                                                 \n",
            " dropout_2 (Dropout)         (None, 512)               0         \n",
            "                                                                 \n",
            " dense_3 (Dense)             (None, 10)                5130      \n",
            "                                                                 \n",
            "=================================================================\n",
            "Total params: 1,841,418\n",
            "Trainable params: 1,841,418\n",
            "Non-trainable params: 0\n",
            "_________________________________________________________________\n"
          ]
        }
      ]
    },
    {
      "cell_type": "code",
      "source": [
        "model.compile(loss='categorical_crossentropy',optimizer=RMSprop(), metrics=['accuracy'])"
      ],
      "metadata": {
        "id": "4IY3CzapFJ0G"
      },
      "execution_count": null,
      "outputs": []
    },
    {
      "cell_type": "code",
      "source": [
        "history = model.fit(X_train,y_train,batch_size=128,epochs=500,verbose=1,validation_split=0.2,callbacks=[EarlyStopping(monitor='val_loss',patience=70)])\n"
      ],
      "metadata": {
        "id": "L6FMzk7kFLo3",
        "colab": {
          "base_uri": "https://localhost:8080/"
        },
        "outputId": "00d45fc6-5ac5-4c07-c06d-d7856cb43584"
      },
      "execution_count": null,
      "outputs": [
        {
          "output_type": "stream",
          "name": "stdout",
          "text": [
            "Epoch 1/500\n",
            "313/313 [==============================] - 7s 11ms/step - loss: 2.1232 - accuracy: 0.2321 - val_loss: 2.0399 - val_accuracy: 0.2613\n",
            "Epoch 2/500\n",
            "313/313 [==============================] - 3s 10ms/step - loss: 1.8992 - accuracy: 0.3118 - val_loss: 1.8683 - val_accuracy: 0.3067\n",
            "Epoch 3/500\n",
            "313/313 [==============================] - 3s 9ms/step - loss: 1.8302 - accuracy: 0.3395 - val_loss: 1.7499 - val_accuracy: 0.3794\n",
            "Epoch 4/500\n",
            "313/313 [==============================] - 3s 11ms/step - loss: 1.7761 - accuracy: 0.3598 - val_loss: 1.8949 - val_accuracy: 0.3039\n",
            "Epoch 5/500\n",
            "313/313 [==============================] - 3s 10ms/step - loss: 1.7394 - accuracy: 0.3753 - val_loss: 1.7281 - val_accuracy: 0.3653\n",
            "Epoch 6/500\n",
            "313/313 [==============================] - 3s 11ms/step - loss: 1.7119 - accuracy: 0.3850 - val_loss: 1.6546 - val_accuracy: 0.4221\n",
            "Epoch 7/500\n",
            "313/313 [==============================] - 3s 10ms/step - loss: 1.6882 - accuracy: 0.3965 - val_loss: 1.7085 - val_accuracy: 0.3851\n",
            "Epoch 8/500\n",
            "313/313 [==============================] - 3s 10ms/step - loss: 1.6734 - accuracy: 0.3979 - val_loss: 1.6379 - val_accuracy: 0.4213\n",
            "Epoch 9/500\n",
            "313/313 [==============================] - 3s 11ms/step - loss: 1.6616 - accuracy: 0.4065 - val_loss: 1.6885 - val_accuracy: 0.3793\n",
            "Epoch 10/500\n",
            "313/313 [==============================] - 3s 11ms/step - loss: 1.6460 - accuracy: 0.4093 - val_loss: 1.6333 - val_accuracy: 0.4055\n",
            "Epoch 11/500\n",
            "313/313 [==============================] - 3s 11ms/step - loss: 1.6322 - accuracy: 0.4165 - val_loss: 1.6881 - val_accuracy: 0.4000\n",
            "Epoch 12/500\n",
            "313/313 [==============================] - 3s 10ms/step - loss: 1.6242 - accuracy: 0.4161 - val_loss: 1.6280 - val_accuracy: 0.4268\n",
            "Epoch 13/500\n",
            "313/313 [==============================] - 3s 9ms/step - loss: 1.6147 - accuracy: 0.4256 - val_loss: 1.6999 - val_accuracy: 0.3864\n",
            "Epoch 14/500\n",
            "313/313 [==============================] - 3s 10ms/step - loss: 1.5989 - accuracy: 0.4299 - val_loss: 1.5977 - val_accuracy: 0.4376\n",
            "Epoch 15/500\n",
            "313/313 [==============================] - 3s 10ms/step - loss: 1.5907 - accuracy: 0.4295 - val_loss: 1.5905 - val_accuracy: 0.4369\n",
            "Epoch 16/500\n",
            "313/313 [==============================] - 3s 9ms/step - loss: 1.5918 - accuracy: 0.4317 - val_loss: 1.6092 - val_accuracy: 0.4366\n",
            "Epoch 17/500\n",
            "313/313 [==============================] - 3s 10ms/step - loss: 1.5883 - accuracy: 0.4328 - val_loss: 1.5752 - val_accuracy: 0.4461\n",
            "Epoch 18/500\n",
            "313/313 [==============================] - 3s 9ms/step - loss: 1.5844 - accuracy: 0.4353 - val_loss: 1.5651 - val_accuracy: 0.4579\n",
            "Epoch 19/500\n",
            "313/313 [==============================] - 3s 9ms/step - loss: 1.5701 - accuracy: 0.4369 - val_loss: 1.5395 - val_accuracy: 0.4584\n",
            "Epoch 20/500\n",
            "313/313 [==============================] - 3s 9ms/step - loss: 1.5708 - accuracy: 0.4369 - val_loss: 1.5409 - val_accuracy: 0.4710\n",
            "Epoch 21/500\n",
            "313/313 [==============================] - 3s 10ms/step - loss: 1.5612 - accuracy: 0.4433 - val_loss: 1.5562 - val_accuracy: 0.4446\n",
            "Epoch 22/500\n",
            "313/313 [==============================] - 3s 9ms/step - loss: 1.5606 - accuracy: 0.4419 - val_loss: 1.5679 - val_accuracy: 0.4483\n",
            "Epoch 23/500\n",
            "313/313 [==============================] - 3s 9ms/step - loss: 1.5558 - accuracy: 0.4451 - val_loss: 1.5577 - val_accuracy: 0.4553\n",
            "Epoch 24/500\n",
            "313/313 [==============================] - 3s 9ms/step - loss: 1.5591 - accuracy: 0.4446 - val_loss: 1.5867 - val_accuracy: 0.4398\n",
            "Epoch 25/500\n",
            "313/313 [==============================] - 3s 9ms/step - loss: 1.5525 - accuracy: 0.4460 - val_loss: 1.5717 - val_accuracy: 0.4453\n",
            "Epoch 26/500\n",
            "313/313 [==============================] - 3s 10ms/step - loss: 1.5525 - accuracy: 0.4476 - val_loss: 1.5601 - val_accuracy: 0.4468\n",
            "Epoch 27/500\n",
            "313/313 [==============================] - 3s 9ms/step - loss: 1.5450 - accuracy: 0.4524 - val_loss: 1.5897 - val_accuracy: 0.4376\n",
            "Epoch 28/500\n",
            "313/313 [==============================] - 3s 9ms/step - loss: 1.5403 - accuracy: 0.4554 - val_loss: 1.5531 - val_accuracy: 0.4571\n",
            "Epoch 29/500\n",
            "313/313 [==============================] - 3s 9ms/step - loss: 1.5468 - accuracy: 0.4505 - val_loss: 1.5696 - val_accuracy: 0.4483\n",
            "Epoch 30/500\n",
            "313/313 [==============================] - 3s 10ms/step - loss: 1.5390 - accuracy: 0.4527 - val_loss: 1.5634 - val_accuracy: 0.4582\n",
            "Epoch 31/500\n",
            "313/313 [==============================] - 3s 9ms/step - loss: 1.5350 - accuracy: 0.4535 - val_loss: 1.5714 - val_accuracy: 0.4483\n",
            "Epoch 32/500\n",
            "313/313 [==============================] - 3s 10ms/step - loss: 1.5282 - accuracy: 0.4545 - val_loss: 1.5250 - val_accuracy: 0.4791\n",
            "Epoch 33/500\n",
            "313/313 [==============================] - 3s 9ms/step - loss: 1.5332 - accuracy: 0.4565 - val_loss: 1.5889 - val_accuracy: 0.4346\n",
            "Epoch 34/500\n",
            "313/313 [==============================] - 3s 10ms/step - loss: 1.5315 - accuracy: 0.4567 - val_loss: 1.5648 - val_accuracy: 0.4560\n",
            "Epoch 35/500\n",
            "313/313 [==============================] - 3s 9ms/step - loss: 1.5355 - accuracy: 0.4566 - val_loss: 1.5032 - val_accuracy: 0.4738\n",
            "Epoch 36/500\n",
            "313/313 [==============================] - 3s 9ms/step - loss: 1.5306 - accuracy: 0.4568 - val_loss: 1.5299 - val_accuracy: 0.4635\n",
            "Epoch 37/500\n",
            "313/313 [==============================] - 3s 10ms/step - loss: 1.5332 - accuracy: 0.4559 - val_loss: 1.5720 - val_accuracy: 0.4471\n",
            "Epoch 38/500\n",
            "313/313 [==============================] - 3s 9ms/step - loss: 1.5215 - accuracy: 0.4607 - val_loss: 1.5093 - val_accuracy: 0.4684\n",
            "Epoch 39/500\n",
            "313/313 [==============================] - 3s 10ms/step - loss: 1.5292 - accuracy: 0.4599 - val_loss: 1.5417 - val_accuracy: 0.4568\n",
            "Epoch 40/500\n",
            "313/313 [==============================] - 3s 9ms/step - loss: 1.5144 - accuracy: 0.4611 - val_loss: 1.5470 - val_accuracy: 0.4557\n",
            "Epoch 41/500\n",
            "313/313 [==============================] - 3s 10ms/step - loss: 1.5169 - accuracy: 0.4617 - val_loss: 1.6493 - val_accuracy: 0.4050\n",
            "Epoch 42/500\n",
            "313/313 [==============================] - 3s 10ms/step - loss: 1.5227 - accuracy: 0.4598 - val_loss: 1.5867 - val_accuracy: 0.4336\n",
            "Epoch 43/500\n",
            "313/313 [==============================] - 3s 9ms/step - loss: 1.5174 - accuracy: 0.4613 - val_loss: 1.5137 - val_accuracy: 0.4652\n",
            "Epoch 44/500\n",
            "313/313 [==============================] - 3s 10ms/step - loss: 1.5112 - accuracy: 0.4670 - val_loss: 1.5639 - val_accuracy: 0.4668\n",
            "Epoch 45/500\n",
            "313/313 [==============================] - 3s 9ms/step - loss: 1.5145 - accuracy: 0.4641 - val_loss: 1.5506 - val_accuracy: 0.4641\n",
            "Epoch 46/500\n",
            "313/313 [==============================] - 3s 10ms/step - loss: 1.5098 - accuracy: 0.4636 - val_loss: 1.5086 - val_accuracy: 0.4736\n",
            "Epoch 47/500\n",
            "313/313 [==============================] - 3s 9ms/step - loss: 1.5140 - accuracy: 0.4664 - val_loss: 1.5051 - val_accuracy: 0.4766\n",
            "Epoch 48/500\n",
            "313/313 [==============================] - 3s 10ms/step - loss: 1.5191 - accuracy: 0.4622 - val_loss: 1.6100 - val_accuracy: 0.4292\n",
            "Epoch 49/500\n",
            "313/313 [==============================] - 3s 10ms/step - loss: 1.5071 - accuracy: 0.4665 - val_loss: 1.5220 - val_accuracy: 0.4744\n",
            "Epoch 50/500\n",
            "313/313 [==============================] - 3s 10ms/step - loss: 1.5093 - accuracy: 0.4668 - val_loss: 1.6708 - val_accuracy: 0.4112\n",
            "Epoch 51/500\n",
            "313/313 [==============================] - 3s 9ms/step - loss: 1.5139 - accuracy: 0.4670 - val_loss: 1.5531 - val_accuracy: 0.4547\n",
            "Epoch 52/500\n",
            "313/313 [==============================] - 3s 9ms/step - loss: 1.5039 - accuracy: 0.4698 - val_loss: 1.5597 - val_accuracy: 0.4666\n",
            "Epoch 53/500\n",
            "313/313 [==============================] - 3s 9ms/step - loss: 1.5133 - accuracy: 0.4651 - val_loss: 1.5268 - val_accuracy: 0.4736\n",
            "Epoch 54/500\n",
            "313/313 [==============================] - 3s 9ms/step - loss: 1.4961 - accuracy: 0.4709 - val_loss: 1.6472 - val_accuracy: 0.4346\n",
            "Epoch 55/500\n",
            "313/313 [==============================] - 3s 9ms/step - loss: 1.5005 - accuracy: 0.4709 - val_loss: 1.5687 - val_accuracy: 0.4417\n",
            "Epoch 56/500\n",
            "313/313 [==============================] - 3s 10ms/step - loss: 1.4985 - accuracy: 0.4716 - val_loss: 1.5952 - val_accuracy: 0.4513\n",
            "Epoch 57/500\n",
            "313/313 [==============================] - 3s 10ms/step - loss: 1.4967 - accuracy: 0.4708 - val_loss: 1.5382 - val_accuracy: 0.4588\n",
            "Epoch 58/500\n",
            "313/313 [==============================] - 3s 9ms/step - loss: 1.4921 - accuracy: 0.4724 - val_loss: 1.5842 - val_accuracy: 0.4423\n",
            "Epoch 59/500\n",
            "313/313 [==============================] - 3s 9ms/step - loss: 1.4950 - accuracy: 0.4740 - val_loss: 1.6073 - val_accuracy: 0.4557\n",
            "Epoch 60/500\n",
            "313/313 [==============================] - 3s 9ms/step - loss: 1.4855 - accuracy: 0.4730 - val_loss: 1.5106 - val_accuracy: 0.4701\n",
            "Epoch 61/500\n",
            "313/313 [==============================] - 3s 9ms/step - loss: 1.4911 - accuracy: 0.4746 - val_loss: 1.5796 - val_accuracy: 0.4571\n",
            "Epoch 62/500\n",
            "313/313 [==============================] - 3s 10ms/step - loss: 1.4843 - accuracy: 0.4746 - val_loss: 1.5216 - val_accuracy: 0.4653\n",
            "Epoch 63/500\n",
            "313/313 [==============================] - 3s 9ms/step - loss: 1.4864 - accuracy: 0.4741 - val_loss: 1.4947 - val_accuracy: 0.4839\n",
            "Epoch 64/500\n",
            "313/313 [==============================] - 3s 10ms/step - loss: 1.4928 - accuracy: 0.4750 - val_loss: 1.5450 - val_accuracy: 0.4584\n",
            "Epoch 65/500\n",
            "313/313 [==============================] - 3s 9ms/step - loss: 1.4826 - accuracy: 0.4786 - val_loss: 1.5299 - val_accuracy: 0.4587\n",
            "Epoch 66/500\n",
            "313/313 [==============================] - 3s 9ms/step - loss: 1.4791 - accuracy: 0.4803 - val_loss: 1.6315 - val_accuracy: 0.4441\n",
            "Epoch 67/500\n",
            "313/313 [==============================] - 3s 9ms/step - loss: 1.4827 - accuracy: 0.4781 - val_loss: 1.5199 - val_accuracy: 0.4726\n",
            "Epoch 68/500\n",
            "313/313 [==============================] - 3s 9ms/step - loss: 1.4748 - accuracy: 0.4819 - val_loss: 1.5411 - val_accuracy: 0.4507\n",
            "Epoch 69/500\n",
            "313/313 [==============================] - 3s 9ms/step - loss: 1.4778 - accuracy: 0.4768 - val_loss: 1.5189 - val_accuracy: 0.4766\n",
            "Epoch 70/500\n",
            "313/313 [==============================] - 3s 10ms/step - loss: 1.4769 - accuracy: 0.4803 - val_loss: 1.5233 - val_accuracy: 0.4678\n",
            "Epoch 71/500\n",
            "313/313 [==============================] - 3s 10ms/step - loss: 1.4775 - accuracy: 0.4824 - val_loss: 1.5709 - val_accuracy: 0.4468\n",
            "Epoch 72/500\n",
            "313/313 [==============================] - 3s 10ms/step - loss: 1.4753 - accuracy: 0.4795 - val_loss: 1.5772 - val_accuracy: 0.4402\n",
            "Epoch 73/500\n",
            "313/313 [==============================] - 3s 9ms/step - loss: 1.4744 - accuracy: 0.4788 - val_loss: 1.5486 - val_accuracy: 0.4628\n",
            "Epoch 74/500\n",
            "313/313 [==============================] - 3s 10ms/step - loss: 1.4761 - accuracy: 0.4821 - val_loss: 1.6024 - val_accuracy: 0.4452\n",
            "Epoch 75/500\n",
            "313/313 [==============================] - 3s 10ms/step - loss: 1.4728 - accuracy: 0.4812 - val_loss: 1.4865 - val_accuracy: 0.4792\n",
            "Epoch 76/500\n",
            "313/313 [==============================] - 3s 9ms/step - loss: 1.4737 - accuracy: 0.4821 - val_loss: 1.5506 - val_accuracy: 0.4628\n",
            "Epoch 77/500\n",
            "313/313 [==============================] - 3s 10ms/step - loss: 1.4782 - accuracy: 0.4832 - val_loss: 1.5882 - val_accuracy: 0.4252\n",
            "Epoch 78/500\n",
            "313/313 [==============================] - 3s 9ms/step - loss: 1.4610 - accuracy: 0.4846 - val_loss: 1.5191 - val_accuracy: 0.4649\n",
            "Epoch 79/500\n",
            "313/313 [==============================] - 3s 9ms/step - loss: 1.4642 - accuracy: 0.4854 - val_loss: 1.5134 - val_accuracy: 0.4743\n",
            "Epoch 80/500\n",
            "313/313 [==============================] - 3s 10ms/step - loss: 1.4660 - accuracy: 0.4831 - val_loss: 1.5104 - val_accuracy: 0.4627\n",
            "Epoch 81/500\n",
            "313/313 [==============================] - 3s 10ms/step - loss: 1.4623 - accuracy: 0.4850 - val_loss: 1.5836 - val_accuracy: 0.4463\n",
            "Epoch 82/500\n",
            "313/313 [==============================] - 3s 9ms/step - loss: 1.4557 - accuracy: 0.4845 - val_loss: 1.5137 - val_accuracy: 0.4808\n",
            "Epoch 83/500\n",
            "313/313 [==============================] - 3s 10ms/step - loss: 1.4535 - accuracy: 0.4846 - val_loss: 1.4914 - val_accuracy: 0.4735\n",
            "Epoch 84/500\n",
            "313/313 [==============================] - 3s 10ms/step - loss: 1.4626 - accuracy: 0.4830 - val_loss: 1.5667 - val_accuracy: 0.4469\n",
            "Epoch 85/500\n",
            "313/313 [==============================] - 3s 9ms/step - loss: 1.4597 - accuracy: 0.4902 - val_loss: 1.4936 - val_accuracy: 0.4749\n",
            "Epoch 86/500\n",
            "313/313 [==============================] - 3s 9ms/step - loss: 1.4572 - accuracy: 0.4857 - val_loss: 1.5273 - val_accuracy: 0.4684\n",
            "Epoch 87/500\n",
            "313/313 [==============================] - 3s 10ms/step - loss: 1.4489 - accuracy: 0.4873 - val_loss: 1.5026 - val_accuracy: 0.4731\n",
            "Epoch 88/500\n",
            "313/313 [==============================] - 3s 9ms/step - loss: 1.4575 - accuracy: 0.4890 - val_loss: 1.4739 - val_accuracy: 0.4886\n",
            "Epoch 89/500\n",
            "313/313 [==============================] - 3s 9ms/step - loss: 1.4480 - accuracy: 0.4883 - val_loss: 1.4950 - val_accuracy: 0.4636\n",
            "Epoch 90/500\n",
            "313/313 [==============================] - 3s 9ms/step - loss: 1.4528 - accuracy: 0.4865 - val_loss: 1.6461 - val_accuracy: 0.4238\n",
            "Epoch 91/500\n",
            "313/313 [==============================] - 3s 10ms/step - loss: 1.4431 - accuracy: 0.4936 - val_loss: 1.5034 - val_accuracy: 0.4852\n",
            "Epoch 92/500\n",
            "313/313 [==============================] - 3s 9ms/step - loss: 1.4509 - accuracy: 0.4879 - val_loss: 1.6018 - val_accuracy: 0.4231\n",
            "Epoch 93/500\n",
            "313/313 [==============================] - 3s 9ms/step - loss: 1.4472 - accuracy: 0.4913 - val_loss: 1.5144 - val_accuracy: 0.4738\n",
            "Epoch 94/500\n",
            "313/313 [==============================] - 3s 9ms/step - loss: 1.4433 - accuracy: 0.4889 - val_loss: 1.5232 - val_accuracy: 0.4755\n",
            "Epoch 95/500\n",
            "313/313 [==============================] - 3s 9ms/step - loss: 1.4450 - accuracy: 0.4899 - val_loss: 1.4784 - val_accuracy: 0.4898\n",
            "Epoch 96/500\n",
            "313/313 [==============================] - 3s 10ms/step - loss: 1.4425 - accuracy: 0.4897 - val_loss: 1.4964 - val_accuracy: 0.4599\n",
            "Epoch 97/500\n",
            "313/313 [==============================] - 3s 10ms/step - loss: 1.4350 - accuracy: 0.4958 - val_loss: 1.8315 - val_accuracy: 0.4463\n",
            "Epoch 98/500\n",
            "313/313 [==============================] - 3s 9ms/step - loss: 1.4405 - accuracy: 0.4893 - val_loss: 1.5195 - val_accuracy: 0.4853\n",
            "Epoch 99/500\n",
            "313/313 [==============================] - 3s 9ms/step - loss: 1.4441 - accuracy: 0.4917 - val_loss: 1.4775 - val_accuracy: 0.4848\n",
            "Epoch 100/500\n",
            "313/313 [==============================] - 3s 9ms/step - loss: 1.4474 - accuracy: 0.4885 - val_loss: 1.5377 - val_accuracy: 0.4681\n",
            "Epoch 101/500\n",
            "313/313 [==============================] - 3s 10ms/step - loss: 1.4286 - accuracy: 0.4935 - val_loss: 1.5467 - val_accuracy: 0.4695\n",
            "Epoch 102/500\n",
            "313/313 [==============================] - 3s 10ms/step - loss: 1.4434 - accuracy: 0.4915 - val_loss: 1.5485 - val_accuracy: 0.4657\n",
            "Epoch 103/500\n",
            "313/313 [==============================] - 3s 9ms/step - loss: 1.4419 - accuracy: 0.4928 - val_loss: 1.5132 - val_accuracy: 0.4604\n",
            "Epoch 104/500\n",
            "313/313 [==============================] - 3s 10ms/step - loss: 1.4310 - accuracy: 0.4934 - val_loss: 1.5544 - val_accuracy: 0.4480\n",
            "Epoch 105/500\n",
            "313/313 [==============================] - 3s 9ms/step - loss: 1.4275 - accuracy: 0.4969 - val_loss: 1.5096 - val_accuracy: 0.4754\n",
            "Epoch 106/500\n",
            "313/313 [==============================] - 3s 10ms/step - loss: 1.4439 - accuracy: 0.4945 - val_loss: 1.4988 - val_accuracy: 0.4898\n",
            "Epoch 107/500\n",
            "313/313 [==============================] - 3s 10ms/step - loss: 1.4232 - accuracy: 0.4977 - val_loss: 1.5069 - val_accuracy: 0.4797\n",
            "Epoch 108/500\n",
            "313/313 [==============================] - 3s 10ms/step - loss: 1.4466 - accuracy: 0.4983 - val_loss: 1.6298 - val_accuracy: 0.4786\n",
            "Epoch 109/500\n",
            "313/313 [==============================] - 3s 10ms/step - loss: 1.4253 - accuracy: 0.4969 - val_loss: 1.4936 - val_accuracy: 0.4777\n",
            "Epoch 110/500\n",
            "313/313 [==============================] - 3s 10ms/step - loss: 1.4236 - accuracy: 0.4962 - val_loss: 1.5684 - val_accuracy: 0.4683\n",
            "Epoch 111/500\n",
            "313/313 [==============================] - 3s 9ms/step - loss: 1.4224 - accuracy: 0.5002 - val_loss: 1.5271 - val_accuracy: 0.4672\n",
            "Epoch 112/500\n",
            "313/313 [==============================] - 3s 10ms/step - loss: 1.4319 - accuracy: 0.4967 - val_loss: 1.4925 - val_accuracy: 0.4938\n",
            "Epoch 113/500\n",
            "313/313 [==============================] - 3s 10ms/step - loss: 1.4267 - accuracy: 0.4995 - val_loss: 1.5471 - val_accuracy: 0.4628\n",
            "Epoch 114/500\n",
            "313/313 [==============================] - 3s 10ms/step - loss: 1.4290 - accuracy: 0.5002 - val_loss: 1.5508 - val_accuracy: 0.4500\n",
            "Epoch 115/500\n",
            "313/313 [==============================] - 3s 10ms/step - loss: 1.4268 - accuracy: 0.4945 - val_loss: 1.5299 - val_accuracy: 0.4470\n",
            "Epoch 116/500\n",
            "313/313 [==============================] - 3s 9ms/step - loss: 1.4244 - accuracy: 0.5005 - val_loss: 1.5205 - val_accuracy: 0.4832\n",
            "Epoch 117/500\n",
            "313/313 [==============================] - 3s 10ms/step - loss: 1.4253 - accuracy: 0.4994 - val_loss: 1.5111 - val_accuracy: 0.4693\n",
            "Epoch 118/500\n",
            "313/313 [==============================] - 3s 10ms/step - loss: 1.4186 - accuracy: 0.4971 - val_loss: 1.5369 - val_accuracy: 0.4460\n",
            "Epoch 119/500\n",
            "313/313 [==============================] - 3s 9ms/step - loss: 1.4261 - accuracy: 0.4997 - val_loss: 1.5145 - val_accuracy: 0.4644\n",
            "Epoch 120/500\n",
            "313/313 [==============================] - 3s 9ms/step - loss: 1.4235 - accuracy: 0.4985 - val_loss: 1.6020 - val_accuracy: 0.4434\n",
            "Epoch 121/500\n",
            "313/313 [==============================] - 3s 9ms/step - loss: 1.4138 - accuracy: 0.5027 - val_loss: 1.5916 - val_accuracy: 0.4484\n",
            "Epoch 122/500\n",
            "313/313 [==============================] - 3s 10ms/step - loss: 1.4104 - accuracy: 0.5035 - val_loss: 1.5546 - val_accuracy: 0.4778\n",
            "Epoch 123/500\n",
            "313/313 [==============================] - 3s 10ms/step - loss: 1.4201 - accuracy: 0.5009 - val_loss: 1.5005 - val_accuracy: 0.4843\n",
            "Epoch 124/500\n",
            "313/313 [==============================] - 3s 10ms/step - loss: 1.4123 - accuracy: 0.5019 - val_loss: 1.5416 - val_accuracy: 0.4567\n",
            "Epoch 125/500\n",
            "313/313 [==============================] - 3s 10ms/step - loss: 1.4204 - accuracy: 0.4997 - val_loss: 1.5439 - val_accuracy: 0.4749\n",
            "Epoch 126/500\n",
            "313/313 [==============================] - 3s 10ms/step - loss: 1.4118 - accuracy: 0.4994 - val_loss: 1.5438 - val_accuracy: 0.4702\n",
            "Epoch 127/500\n",
            "313/313 [==============================] - 3s 9ms/step - loss: 1.4116 - accuracy: 0.5067 - val_loss: 1.5388 - val_accuracy: 0.4723\n",
            "Epoch 128/500\n",
            "313/313 [==============================] - 3s 9ms/step - loss: 1.4193 - accuracy: 0.5030 - val_loss: 1.5482 - val_accuracy: 0.4736\n",
            "Epoch 129/500\n",
            "313/313 [==============================] - 3s 9ms/step - loss: 1.4076 - accuracy: 0.5009 - val_loss: 1.5264 - val_accuracy: 0.4814\n",
            "Epoch 130/500\n",
            "313/313 [==============================] - 3s 10ms/step - loss: 1.4141 - accuracy: 0.5020 - val_loss: 1.5211 - val_accuracy: 0.4548\n",
            "Epoch 131/500\n",
            "313/313 [==============================] - 3s 10ms/step - loss: 1.4113 - accuracy: 0.5055 - val_loss: 1.4888 - val_accuracy: 0.4896\n",
            "Epoch 132/500\n",
            "313/313 [==============================] - 3s 9ms/step - loss: 1.4041 - accuracy: 0.5031 - val_loss: 1.6411 - val_accuracy: 0.4280\n",
            "Epoch 133/500\n",
            "313/313 [==============================] - 3s 10ms/step - loss: 1.4099 - accuracy: 0.5024 - val_loss: 1.6629 - val_accuracy: 0.4724\n",
            "Epoch 134/500\n",
            "313/313 [==============================] - 3s 9ms/step - loss: 1.4044 - accuracy: 0.5004 - val_loss: 1.5689 - val_accuracy: 0.4555\n",
            "Epoch 135/500\n",
            "313/313 [==============================] - 3s 9ms/step - loss: 1.4058 - accuracy: 0.5072 - val_loss: 1.5989 - val_accuracy: 0.4795\n",
            "Epoch 136/500\n",
            "313/313 [==============================] - 3s 10ms/step - loss: 1.4122 - accuracy: 0.5031 - val_loss: 1.5670 - val_accuracy: 0.4907\n",
            "Epoch 137/500\n",
            "313/313 [==============================] - 3s 9ms/step - loss: 1.3994 - accuracy: 0.5062 - val_loss: 1.5391 - val_accuracy: 0.4666\n",
            "Epoch 138/500\n",
            "313/313 [==============================] - 3s 9ms/step - loss: 1.4087 - accuracy: 0.5022 - val_loss: 1.5382 - val_accuracy: 0.4520\n",
            "Epoch 139/500\n",
            "313/313 [==============================] - 3s 9ms/step - loss: 1.3992 - accuracy: 0.5073 - val_loss: 1.5910 - val_accuracy: 0.4867\n",
            "Epoch 140/500\n",
            "313/313 [==============================] - 3s 10ms/step - loss: 1.4084 - accuracy: 0.5039 - val_loss: 1.5548 - val_accuracy: 0.4666\n",
            "Epoch 141/500\n",
            "313/313 [==============================] - 3s 9ms/step - loss: 1.4149 - accuracy: 0.5036 - val_loss: 1.5446 - val_accuracy: 0.4604\n",
            "Epoch 142/500\n",
            "313/313 [==============================] - 3s 10ms/step - loss: 1.4107 - accuracy: 0.5050 - val_loss: 1.5188 - val_accuracy: 0.4872\n",
            "Epoch 143/500\n",
            "313/313 [==============================] - 3s 9ms/step - loss: 1.4098 - accuracy: 0.5066 - val_loss: 1.5962 - val_accuracy: 0.4604\n",
            "Epoch 144/500\n",
            "313/313 [==============================] - 3s 10ms/step - loss: 1.4035 - accuracy: 0.5058 - val_loss: 1.6088 - val_accuracy: 0.4814\n",
            "Epoch 145/500\n",
            "313/313 [==============================] - 3s 9ms/step - loss: 1.4026 - accuracy: 0.5047 - val_loss: 1.6053 - val_accuracy: 0.4595\n",
            "Epoch 146/500\n",
            "313/313 [==============================] - 3s 9ms/step - loss: 1.4009 - accuracy: 0.5069 - val_loss: 1.5480 - val_accuracy: 0.4596\n",
            "Epoch 147/500\n",
            "313/313 [==============================] - 3s 9ms/step - loss: 1.3966 - accuracy: 0.5077 - val_loss: 1.6587 - val_accuracy: 0.4842\n",
            "Epoch 148/500\n",
            "313/313 [==============================] - 3s 9ms/step - loss: 1.4037 - accuracy: 0.5087 - val_loss: 1.5191 - val_accuracy: 0.4696\n",
            "Epoch 149/500\n",
            "313/313 [==============================] - 3s 10ms/step - loss: 1.4050 - accuracy: 0.5056 - val_loss: 1.7119 - val_accuracy: 0.4479\n",
            "Epoch 150/500\n",
            "313/313 [==============================] - 3s 9ms/step - loss: 1.4245 - accuracy: 0.5067 - val_loss: 1.6029 - val_accuracy: 0.4601\n",
            "Epoch 151/500\n",
            "313/313 [==============================] - 3s 9ms/step - loss: 1.4001 - accuracy: 0.5048 - val_loss: 1.4812 - val_accuracy: 0.4923\n",
            "Epoch 152/500\n",
            "313/313 [==============================] - 3s 9ms/step - loss: 1.3956 - accuracy: 0.5112 - val_loss: 1.5690 - val_accuracy: 0.4690\n",
            "Epoch 153/500\n",
            "313/313 [==============================] - 3s 9ms/step - loss: 1.3986 - accuracy: 0.5085 - val_loss: 1.7034 - val_accuracy: 0.4528\n",
            "Epoch 154/500\n",
            "313/313 [==============================] - 3s 10ms/step - loss: 1.4049 - accuracy: 0.5078 - val_loss: 1.6261 - val_accuracy: 0.4705\n",
            "Epoch 155/500\n",
            "313/313 [==============================] - 3s 10ms/step - loss: 1.3924 - accuracy: 0.5100 - val_loss: 1.5404 - val_accuracy: 0.4697\n",
            "Epoch 156/500\n",
            "313/313 [==============================] - 3s 9ms/step - loss: 1.3913 - accuracy: 0.5087 - val_loss: 1.5242 - val_accuracy: 0.4795\n",
            "Epoch 157/500\n",
            "313/313 [==============================] - 3s 9ms/step - loss: 1.3965 - accuracy: 0.5066 - val_loss: 1.6748 - val_accuracy: 0.4676\n",
            "Epoch 158/500\n",
            "313/313 [==============================] - 3s 9ms/step - loss: 1.4000 - accuracy: 0.5092 - val_loss: 1.5567 - val_accuracy: 0.4766\n"
          ]
        }
      ]
    },
    {
      "cell_type": "code",
      "source": [
        "#in sai số và độ chính xác\n",
        "score = model.evaluate(X_test,y_test,verbose=0)\n",
        "print('Loss ',score[0])\n",
        "print('Acc ',score[1])\n"
      ],
      "metadata": {
        "colab": {
          "base_uri": "https://localhost:8080/"
        },
        "id": "IYk3wY7hNRWz",
        "outputId": "1ed765a9-9d1c-426c-9560-7ab5cfa0efaa"
      },
      "execution_count": null,
      "outputs": [
        {
          "output_type": "stream",
          "name": "stdout",
          "text": [
            "Loss  1.5268276929855347\n",
            "Acc  0.47999998927116394\n"
          ]
        }
      ]
    },
    {
      "cell_type": "code",
      "source": [
        "# vẽ lại quá trình học\n",
        "plt.plot(history.history['accuracy'])\n",
        "plt.plot(history.history['val_accuracy'])\n",
        "plt.title('model accuracy')\n",
        "plt.ylabel('accuracy')\n",
        "plt.xlabel('epochs')\n",
        "plt.legend(['train','Validation'])\n",
        "plt.show()\n"
      ],
      "metadata": {
        "colab": {
          "base_uri": "https://localhost:8080/",
          "height": 295
        },
        "id": "6VbpH9uhNYQX",
        "outputId": "25ecbde0-572f-4ac8-8f49-ad60edff0f12"
      },
      "execution_count": null,
      "outputs": [
        {
          "output_type": "display_data",
          "data": {
            "text/plain": [
              "<Figure size 432x288 with 1 Axes>"
            ],
            "image/png": "[encoded data removed]"
          },
          "metadata": {
            "needs_background": "light"
          }
        }
      ]
    },
    {
      "cell_type": "code",
      "source": [
        "from tensorflow.keras.utils import load_img, img_to_array\n",
        "import numpy as np\n",
        "filename = \"/content/conngua.jpg\"\n",
        "\n",
        "img = load_img(filename,target_size=(32,32))\n",
        "img_show = plt.imshow(img)\n",
        "plt.show()\n",
        "img = img_to_array(img)\n",
        "img = img.reshape(1,32*32*3)\n",
        "img = img.astype('float32')\n",
        "img = img/255\n",
        "\n",
        "kq = np.argmax(model.predict(img),axis=-1)\n",
        "if(kq==0):\n",
        "    print(\"may bay\");\n",
        "if(kq==1):\n",
        "    print(\"xe hoi\");\n",
        "if(kq==2):\n",
        "    print(\"con chim\");\n",
        "if(kq==3):\n",
        "    print(\"con meo\");\n",
        "if(kq==4):\n",
        "    print(\"con huou\");\n",
        "if(kq==5):\n",
        "    print(\"con cho\");\n",
        "if(kq==6):\n",
        "    print(\"con ech\");\n",
        "if(kq==7):\n",
        "    print(\"con ngua\");\n",
        "if(kq==8):\n",
        "    print(\"may tau\");\n",
        "if(kq==9):\n",
        "    print(\"xe tai\");\n",
        "    "
      ],
      "metadata": {
        "colab": {
          "base_uri": "https://localhost:8080/",
          "height": 283
        },
        "id": "J8wRcmRONi8D",
        "outputId": "fb688258-263a-4198-f0ae-ecb8a595aa38"
      },
      "execution_count": null,
      "outputs": [
        {
          "output_type": "display_data",
          "data": {
            "text/plain": [
              "<Figure size 432x288 with 1 Axes>"
            ],
            "image/png": "[encoded data removed]"
          },
          "metadata": {
            "needs_background": "light"
          }
        },
        {
          "output_type": "stream",
          "name": "stdout",
          "text": [
            "con ngua\n"
          ]
        }
      ]
    }
  ]
}